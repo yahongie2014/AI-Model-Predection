{
 "cells": [
  {
   "cell_type": "markdown",
   "id": "2da6f766-beed-43d5-a466-2aca72f37166",
   "metadata": {
    "tags": []
   },
   "source": [
    "<a id='wrang'></a>\n",
    "# 1. Data Wrangling"
   ]
  },
  {
   "cell_type": "code",
   "execution_count": 1,
   "id": "1a560d8f-442e-424a-b4fa-09c7c66fb0ba",
   "metadata": {
    "tags": []
   },
   "outputs": [],
   "source": [
    "from sklearn.datasets import make_classification\n",
    "from sklearn import linear_model\n",
    "from sklearn import preprocessing\n",
    "from sklearn.linear_model import LogisticRegression\n",
    "from sklearn.model_selection import train_test_split\n",
    "from sklearn.ensemble import RandomForestClassifier\n",
    "from sklearn.metrics import classification_report, confusion_matrix\n",
    "from sklearn.metrics.pairwise import _euclidean_distances\n",
    "from imblearn.over_sampling import SMOTE\n",
    "import matplotlib.pyplot as plt\n",
    "import seaborn  as sns\n",
    "import pandas as pd\n",
    "import numpy as np\n",
    "import scipy\n",
    "import scipy.stats as stats\n",
    "import statsmodels.api as sm\n",
    "import pickle\n",
    "\n",
    "%matplotlib inline\n",
    "plt.rc(\"font\", size=14)\n",
    "sns.set(style=\"white\")\n",
    "sns.set(style=\"whitegrid\", color_codes=True)"
   ]
  },
  {
   "cell_type": "code",
   "execution_count": 2,
   "id": "8fe6841c-3699-49c0-8436-eb427bf25169",
   "metadata": {},
   "outputs": [],
   "source": [
    "pd.set_option('display.max_rows', 500)\n",
    "pd.set_option('display.max_columns', 500)"
   ]
  },
  {
   "cell_type": "code",
   "execution_count": 3,
   "id": "f1cd7a16-6ea4-45ec-a008-d5a903b1c751",
   "metadata": {},
   "outputs": [
    {
     "data": {
      "text/html": [
       "<div>\n",
       "<style scoped>\n",
       "    .dataframe tbody tr th:only-of-type {\n",
       "        vertical-align: middle;\n",
       "    }\n",
       "\n",
       "    .dataframe tbody tr th {\n",
       "        vertical-align: top;\n",
       "    }\n",
       "\n",
       "    .dataframe thead th {\n",
       "        text-align: right;\n",
       "    }\n",
       "</style>\n",
       "<table border=\"1\" class=\"dataframe\">\n",
       "  <thead>\n",
       "    <tr style=\"text-align: right;\">\n",
       "      <th></th>\n",
       "      <th>Unnamed: 0</th>\n",
       "      <th>Brand</th>\n",
       "      <th>Unit</th>\n",
       "      <th>Job_type</th>\n",
       "      <th>Subject</th>\n",
       "      <th>Delay</th>\n",
       "      <th>Language_Pair</th>\n",
       "      <th>Start_TimeStamp</th>\n",
       "      <th>Price</th>\n",
       "      <th>Deivery_TimeStamp</th>\n",
       "      <th>amount</th>\n",
       "      <th>Duration</th>\n",
       "      <th>PM</th>\n",
       "      <th>Account</th>\n",
       "      <th>feedback</th>\n",
       "      <th>profitability</th>\n",
       "    </tr>\n",
       "  </thead>\n",
       "  <tbody>\n",
       "    <tr>\n",
       "      <th>0</th>\n",
       "      <td>0</td>\n",
       "      <td>13</td>\n",
       "      <td>4</td>\n",
       "      <td>12</td>\n",
       "      <td>22</td>\n",
       "      <td>0</td>\n",
       "      <td>274</td>\n",
       "      <td>1182.42</td>\n",
       "      <td>0.00</td>\n",
       "      <td>1182.67</td>\n",
       "      <td>2.50</td>\n",
       "      <td>0.25</td>\n",
       "      <td>34</td>\n",
       "      <td>8089</td>\n",
       "      <td>0</td>\n",
       "      <td>0</td>\n",
       "    </tr>\n",
       "    <tr>\n",
       "      <th>1</th>\n",
       "      <td>1</td>\n",
       "      <td>0</td>\n",
       "      <td>4</td>\n",
       "      <td>12</td>\n",
       "      <td>22</td>\n",
       "      <td>0</td>\n",
       "      <td>710</td>\n",
       "      <td>1182.39</td>\n",
       "      <td>0.00</td>\n",
       "      <td>1182.50</td>\n",
       "      <td>0.25</td>\n",
       "      <td>0.11</td>\n",
       "      <td>166</td>\n",
       "      <td>5301</td>\n",
       "      <td>1</td>\n",
       "      <td>0</td>\n",
       "    </tr>\n",
       "    <tr>\n",
       "      <th>2</th>\n",
       "      <td>2</td>\n",
       "      <td>13</td>\n",
       "      <td>10</td>\n",
       "      <td>24</td>\n",
       "      <td>22</td>\n",
       "      <td>0</td>\n",
       "      <td>44</td>\n",
       "      <td>1182.38</td>\n",
       "      <td>30.57</td>\n",
       "      <td>1182.51</td>\n",
       "      <td>401.00</td>\n",
       "      <td>0.13</td>\n",
       "      <td>114</td>\n",
       "      <td>673</td>\n",
       "      <td>0</td>\n",
       "      <td>2</td>\n",
       "    </tr>\n",
       "    <tr>\n",
       "      <th>3</th>\n",
       "      <td>3</td>\n",
       "      <td>6</td>\n",
       "      <td>10</td>\n",
       "      <td>22</td>\n",
       "      <td>32</td>\n",
       "      <td>0</td>\n",
       "      <td>452</td>\n",
       "      <td>1182.36</td>\n",
       "      <td>0.46</td>\n",
       "      <td>1182.46</td>\n",
       "      <td>7.00</td>\n",
       "      <td>0.10</td>\n",
       "      <td>164</td>\n",
       "      <td>4448</td>\n",
       "      <td>0</td>\n",
       "      <td>2</td>\n",
       "    </tr>\n",
       "    <tr>\n",
       "      <th>4</th>\n",
       "      <td>4</td>\n",
       "      <td>13</td>\n",
       "      <td>10</td>\n",
       "      <td>24</td>\n",
       "      <td>22</td>\n",
       "      <td>1</td>\n",
       "      <td>44</td>\n",
       "      <td>1182.34</td>\n",
       "      <td>7.47</td>\n",
       "      <td>1182.36</td>\n",
       "      <td>98.00</td>\n",
       "      <td>0.02</td>\n",
       "      <td>114</td>\n",
       "      <td>673</td>\n",
       "      <td>0</td>\n",
       "      <td>2</td>\n",
       "    </tr>\n",
       "    <tr>\n",
       "      <th>...</th>\n",
       "      <td>...</td>\n",
       "      <td>...</td>\n",
       "      <td>...</td>\n",
       "      <td>...</td>\n",
       "      <td>...</td>\n",
       "      <td>...</td>\n",
       "      <td>...</td>\n",
       "      <td>...</td>\n",
       "      <td>...</td>\n",
       "      <td>...</td>\n",
       "      <td>...</td>\n",
       "      <td>...</td>\n",
       "      <td>...</td>\n",
       "      <td>...</td>\n",
       "      <td>...</td>\n",
       "      <td>...</td>\n",
       "    </tr>\n",
       "    <tr>\n",
       "      <th>317378</th>\n",
       "      <td>327338</td>\n",
       "      <td>8</td>\n",
       "      <td>10</td>\n",
       "      <td>25</td>\n",
       "      <td>22</td>\n",
       "      <td>0</td>\n",
       "      <td>624</td>\n",
       "      <td>-113.46</td>\n",
       "      <td>7.40</td>\n",
       "      <td>1.67</td>\n",
       "      <td>123.33</td>\n",
       "      <td>115.13</td>\n",
       "      <td>63</td>\n",
       "      <td>7846</td>\n",
       "      <td>0</td>\n",
       "      <td>2</td>\n",
       "    </tr>\n",
       "    <tr>\n",
       "      <th>317379</th>\n",
       "      <td>327339</td>\n",
       "      <td>11</td>\n",
       "      <td>4</td>\n",
       "      <td>12</td>\n",
       "      <td>52</td>\n",
       "      <td>1</td>\n",
       "      <td>274</td>\n",
       "      <td>-237.54</td>\n",
       "      <td>30.00</td>\n",
       "      <td>-237.33</td>\n",
       "      <td>1.00</td>\n",
       "      <td>0.21</td>\n",
       "      <td>10</td>\n",
       "      <td>5445</td>\n",
       "      <td>0</td>\n",
       "      <td>2</td>\n",
       "    </tr>\n",
       "    <tr>\n",
       "      <th>317380</th>\n",
       "      <td>327340</td>\n",
       "      <td>11</td>\n",
       "      <td>4</td>\n",
       "      <td>23</td>\n",
       "      <td>22</td>\n",
       "      <td>1</td>\n",
       "      <td>298</td>\n",
       "      <td>-313.71</td>\n",
       "      <td>22.00</td>\n",
       "      <td>-313.33</td>\n",
       "      <td>1.00</td>\n",
       "      <td>0.38</td>\n",
       "      <td>10</td>\n",
       "      <td>5809</td>\n",
       "      <td>0</td>\n",
       "      <td>2</td>\n",
       "    </tr>\n",
       "    <tr>\n",
       "      <th>317381</th>\n",
       "      <td>327341</td>\n",
       "      <td>6</td>\n",
       "      <td>4</td>\n",
       "      <td>12</td>\n",
       "      <td>22</td>\n",
       "      <td>1</td>\n",
       "      <td>650</td>\n",
       "      <td>-452.71</td>\n",
       "      <td>94.12</td>\n",
       "      <td>-452.33</td>\n",
       "      <td>2.27</td>\n",
       "      <td>0.38</td>\n",
       "      <td>5</td>\n",
       "      <td>5234</td>\n",
       "      <td>0</td>\n",
       "      <td>2</td>\n",
       "    </tr>\n",
       "    <tr>\n",
       "      <th>317382</th>\n",
       "      <td>327342</td>\n",
       "      <td>6</td>\n",
       "      <td>4</td>\n",
       "      <td>12</td>\n",
       "      <td>39</td>\n",
       "      <td>1</td>\n",
       "      <td>438</td>\n",
       "      <td>-608.75</td>\n",
       "      <td>30.00</td>\n",
       "      <td>-608.33</td>\n",
       "      <td>1.00</td>\n",
       "      <td>0.42</td>\n",
       "      <td>5</td>\n",
       "      <td>1418</td>\n",
       "      <td>0</td>\n",
       "      <td>2</td>\n",
       "    </tr>\n",
       "  </tbody>\n",
       "</table>\n",
       "<p>317383 rows × 16 columns</p>\n",
       "</div>"
      ],
      "text/plain": [
       "        Unnamed: 0  Brand  Unit  Job_type  Subject  Delay  Language_Pair  \\\n",
       "0                0     13     4        12       22      0            274   \n",
       "1                1      0     4        12       22      0            710   \n",
       "2                2     13    10        24       22      0             44   \n",
       "3                3      6    10        22       32      0            452   \n",
       "4                4     13    10        24       22      1             44   \n",
       "...            ...    ...   ...       ...      ...    ...            ...   \n",
       "317378      327338      8    10        25       22      0            624   \n",
       "317379      327339     11     4        12       52      1            274   \n",
       "317380      327340     11     4        23       22      1            298   \n",
       "317381      327341      6     4        12       22      1            650   \n",
       "317382      327342      6     4        12       39      1            438   \n",
       "\n",
       "        Start_TimeStamp  Price  Deivery_TimeStamp  amount  Duration   PM  \\\n",
       "0               1182.42   0.00            1182.67    2.50      0.25   34   \n",
       "1               1182.39   0.00            1182.50    0.25      0.11  166   \n",
       "2               1182.38  30.57            1182.51  401.00      0.13  114   \n",
       "3               1182.36   0.46            1182.46    7.00      0.10  164   \n",
       "4               1182.34   7.47            1182.36   98.00      0.02  114   \n",
       "...                 ...    ...                ...     ...       ...  ...   \n",
       "317378          -113.46   7.40               1.67  123.33    115.13   63   \n",
       "317379          -237.54  30.00            -237.33    1.00      0.21   10   \n",
       "317380          -313.71  22.00            -313.33    1.00      0.38   10   \n",
       "317381          -452.71  94.12            -452.33    2.27      0.38    5   \n",
       "317382          -608.75  30.00            -608.33    1.00      0.42    5   \n",
       "\n",
       "        Account  feedback  profitability  \n",
       "0          8089         0              0  \n",
       "1          5301         1              0  \n",
       "2           673         0              2  \n",
       "3          4448         0              2  \n",
       "4           673         0              2  \n",
       "...         ...       ...            ...  \n",
       "317378     7846         0              2  \n",
       "317379     5445         0              2  \n",
       "317380     5809         0              2  \n",
       "317381     5234         0              2  \n",
       "317382     1418         0              2  \n",
       "\n",
       "[317383 rows x 16 columns]"
      ]
     },
     "execution_count": 3,
     "metadata": {},
     "output_type": "execute_result"
    }
   ],
   "source": [
    "#importing raw data\n",
    "df2= pd.read_csv(\"C://Users//ahmed.saeed//Desktop//Job_Risk//Job_Risk//Delay//df2_JOB_RISK2.csv\", sep=',', low_memory=False)\n",
    "df2"
   ]
  },
  {
   "cell_type": "code",
   "execution_count": 4,
   "id": "bd19a38a-d623-4761-a9ad-b253cadcb10c",
   "metadata": {},
   "outputs": [
    {
     "name": "stderr",
     "output_type": "stream",
     "text": [
      "C:\\Users\\ahmed.saeed\\Anaconda3\\lib\\site-packages\\sklearn\\base.py:329: UserWarning: Trying to unpickle estimator DecisionTreeClassifier from version 1.2.1 when using version 1.0.2. This might lead to breaking code or invalid results. Use at your own risk. For more info please refer to:\n",
      "https://scikit-learn.org/stable/modules/model_persistence.html#security-maintainability-limitations\n",
      "  warnings.warn(\n",
      "C:\\Users\\ahmed.saeed\\Anaconda3\\lib\\site-packages\\sklearn\\base.py:329: UserWarning: Trying to unpickle estimator RandomForestClassifier from version 1.2.1 when using version 1.0.2. This might lead to breaking code or invalid results. Use at your own risk. For more info please refer to:\n",
      "https://scikit-learn.org/stable/modules/model_persistence.html#security-maintainability-limitations\n",
      "  warnings.warn(\n"
     ]
    }
   ],
   "source": [
    "filename = 'C://Users//ahmed.saeed//Desktop//Job_Risk//Job_Risk//Delay//rf_model_fitted_Delay.sav'\n",
    "rf_model = pickle.load(open(filename, 'rb'))\n"
   ]
  },
  {
   "cell_type": "code",
   "execution_count": 5,
   "id": "7c7e7e91-9791-4ad8-b76e-ebca2200f6c8",
   "metadata": {},
   "outputs": [],
   "source": [
    "X = df2[['Brand', 'Unit', 'Job_type','Subject','Language_Pair','Start_TimeStamp',\n",
    "        'Deivery_TimeStamp','amount','Duration', 'PM', 'Account']]\n",
    "y = np.array(df2[\"Delay\"]).astype(int)\n",
    "X_train, X_test, y_train, y_test = train_test_split(X, y, test_size=0.2, random_state=44)\n"
   ]
  },
  {
   "cell_type": "markdown",
   "id": "24984cef-a195-4869-a746-0f1101d98538",
   "metadata": {},
   "source": [
    "# Step 3. – Making predictions with our model"
   ]
  },
  {
   "cell_type": "code",
   "execution_count": 6,
   "id": "90d11fad-b790-4df4-b96c-ace98485c61f",
   "metadata": {},
   "outputs": [
    {
     "data": {
      "text/plain": [
       "array([0, 1, 0, ..., 1, 0, 0])"
      ]
     },
     "execution_count": 6,
     "metadata": {},
     "output_type": "execute_result"
    }
   ],
   "source": [
    "y_pred = rf_model.predict(X_test)\n",
    "y_pred"
   ]
  },
  {
   "cell_type": "code",
   "execution_count": 7,
   "id": "46df3836-f208-45f7-ae33-0493411cf0c0",
   "metadata": {},
   "outputs": [
    {
     "data": {
      "text/plain": [
       "array([0, 1, 0, ..., 1, 0, 0])"
      ]
     },
     "execution_count": 7,
     "metadata": {},
     "output_type": "execute_result"
    }
   ],
   "source": [
    "y_test"
   ]
  },
  {
   "cell_type": "code",
   "execution_count": 8,
   "id": "43b7a4f6-4b14-4d01-92c6-592c695ece2b",
   "metadata": {},
   "outputs": [
    {
     "data": {
      "text/plain": [
       "array([[0.93, 0.07],\n",
       "       [0.28, 0.72],\n",
       "       [0.87, 0.13],\n",
       "       ...,\n",
       "       [0.  , 1.  ],\n",
       "       [0.52, 0.48],\n",
       "       [0.6 , 0.4 ]])"
      ]
     },
     "execution_count": 8,
     "metadata": {},
     "output_type": "execute_result"
    }
   ],
   "source": [
    "prob = rf_model.predict_proba(X_test)\n",
    "prob"
   ]
  },
  {
   "cell_type": "code",
   "execution_count": 9,
   "id": "33555bc8-8331-49a0-b180-aa89a2f89237",
   "metadata": {},
   "outputs": [
    {
     "data": {
      "text/plain": [
       "array([0, 1])"
      ]
     },
     "execution_count": 9,
     "metadata": {},
     "output_type": "execute_result"
    }
   ],
   "source": [
    "rf_model.classes_"
   ]
  },
  {
   "cell_type": "code",
   "execution_count": 10,
   "id": "f27002bb-e4e1-497c-b8ca-d1c15cdbb1b4",
   "metadata": {},
   "outputs": [
    {
     "name": "stdout",
     "output_type": "stream",
     "text": [
      "              precision    recall  f1-score   support\n",
      "\n",
      "           0       0.86      0.93      0.89     44536\n",
      "           1       0.80      0.66      0.72     18941\n",
      "\n",
      "    accuracy                           0.85     63477\n",
      "   macro avg       0.83      0.79      0.81     63477\n",
      "weighted avg       0.84      0.85      0.84     63477\n",
      "\n"
     ]
    },
    {
     "data": {
      "image/png": "[encoded data removed]",
      "text/plain": [
       "<Figure size 640x480 with 2 Axes>"
      ]
     },
     "metadata": {},
     "output_type": "display_data"
    }
   ],
   "source": [
    "from sklearn.metrics import classification_report, confusion_matrix\n",
    "cm = confusion_matrix(y_test, y_pred)\n",
    "sns.heatmap(cm, annot=True, fmt='d').set_title('Maternal risks confusion matrix')\n",
    "\n",
    "print(classification_report(y_test,y_pred))\n",
    "#Vertical (actual), horizontal (prediction)"
   ]
  },
  {
   "cell_type": "code",
   "execution_count": 11,
   "id": "7349d812-b4bc-49e4-8d7b-54f0679fd5ba",
   "metadata": {},
   "outputs": [
    {
     "name": "stdout",
     "output_type": "stream",
     "text": [
      "On Time : 92.81031075983473 \n",
      "Delayed: 65.57203949105116\n"
     ]
    }
   ],
   "source": [
    "a,b = (cm.diagonal()/cm.sum(axis=1))*100\n",
    "print (\"On Time :\", a,\n",
    "       \"\\nDelayed:\", b)"
   ]
  },
  {
   "cell_type": "code",
   "execution_count": 12,
   "id": "35fca4f8-d148-4852-b194-efe86e161f1e",
   "metadata": {},
   "outputs": [
    {
     "name": "stdout",
     "output_type": "stream",
     "text": [
      " the importance of feature 'Brand' is 4.97%.\n",
      " the importance of feature 'Unit' is 1.47%.\n",
      " the importance of feature 'Job_type' is 4.88%.\n",
      " the importance of feature 'Subject' is 4.83%.\n",
      " the importance of feature 'Language_Pair' is 6.38%.\n",
      " the importance of feature 'Start_TimeStamp' is 12.99%.\n",
      " the importance of feature 'Deivery_TimeStamp' is 12.93%.\n",
      " the importance of feature 'amount' is 14.73%.\n",
      " the importance of feature 'Duration' is 18.04%.\n",
      " the importance of feature 'PM' is 7.92%.\n",
      " the importance of feature 'Account' is 10.87%.\n"
     ]
    }
   ],
   "source": [
    "importances = rf_model.feature_importances_\n",
    "columns = X.columns\n",
    "i = 0\n",
    "\n",
    "while i < len(columns):\n",
    "    print (f\" the importance of feature '{columns[i]}' is {round(importances[i]*100, 2)}%.\")\n",
    "    i+=1"
   ]
  },
  {
   "cell_type": "code",
   "execution_count": 13,
   "id": "9fedfe81-ce42-4f4e-8341-093b42f026eb",
   "metadata": {
    "tags": []
   },
   "outputs": [
    {
     "data": {
      "text/html": [
       "<div>\n",
       "<style scoped>\n",
       "    .dataframe tbody tr th:only-of-type {\n",
       "        vertical-align: middle;\n",
       "    }\n",
       "\n",
       "    .dataframe tbody tr th {\n",
       "        vertical-align: top;\n",
       "    }\n",
       "\n",
       "    .dataframe thead th {\n",
       "        text-align: right;\n",
       "    }\n",
       "</style>\n",
       "<table border=\"1\" class=\"dataframe\">\n",
       "  <thead>\n",
       "    <tr style=\"text-align: right;\">\n",
       "      <th></th>\n",
       "      <th>On Time</th>\n",
       "      <th>Delayed</th>\n",
       "      <th>y_pred</th>\n",
       "      <th>y_test</th>\n",
       "    </tr>\n",
       "  </thead>\n",
       "  <tbody>\n",
       "    <tr>\n",
       "      <th>0</th>\n",
       "      <td>0.93</td>\n",
       "      <td>0.07</td>\n",
       "      <td>0</td>\n",
       "      <td>0</td>\n",
       "    </tr>\n",
       "    <tr>\n",
       "      <th>1</th>\n",
       "      <td>0.28</td>\n",
       "      <td>0.72</td>\n",
       "      <td>1</td>\n",
       "      <td>1</td>\n",
       "    </tr>\n",
       "    <tr>\n",
       "      <th>2</th>\n",
       "      <td>0.87</td>\n",
       "      <td>0.13</td>\n",
       "      <td>0</td>\n",
       "      <td>0</td>\n",
       "    </tr>\n",
       "    <tr>\n",
       "      <th>3</th>\n",
       "      <td>0.02</td>\n",
       "      <td>0.98</td>\n",
       "      <td>1</td>\n",
       "      <td>1</td>\n",
       "    </tr>\n",
       "    <tr>\n",
       "      <th>4</th>\n",
       "      <td>0.83</td>\n",
       "      <td>0.17</td>\n",
       "      <td>0</td>\n",
       "      <td>1</td>\n",
       "    </tr>\n",
       "    <tr>\n",
       "      <th>...</th>\n",
       "      <td>...</td>\n",
       "      <td>...</td>\n",
       "      <td>...</td>\n",
       "      <td>...</td>\n",
       "    </tr>\n",
       "    <tr>\n",
       "      <th>63472</th>\n",
       "      <td>0.34</td>\n",
       "      <td>0.66</td>\n",
       "      <td>1</td>\n",
       "      <td>0</td>\n",
       "    </tr>\n",
       "    <tr>\n",
       "      <th>63473</th>\n",
       "      <td>0.84</td>\n",
       "      <td>0.16</td>\n",
       "      <td>0</td>\n",
       "      <td>0</td>\n",
       "    </tr>\n",
       "    <tr>\n",
       "      <th>63474</th>\n",
       "      <td>0.00</td>\n",
       "      <td>1.00</td>\n",
       "      <td>1</td>\n",
       "      <td>1</td>\n",
       "    </tr>\n",
       "    <tr>\n",
       "      <th>63475</th>\n",
       "      <td>0.52</td>\n",
       "      <td>0.48</td>\n",
       "      <td>0</td>\n",
       "      <td>0</td>\n",
       "    </tr>\n",
       "    <tr>\n",
       "      <th>63476</th>\n",
       "      <td>0.60</td>\n",
       "      <td>0.40</td>\n",
       "      <td>0</td>\n",
       "      <td>0</td>\n",
       "    </tr>\n",
       "  </tbody>\n",
       "</table>\n",
       "<p>63477 rows × 4 columns</p>\n",
       "</div>"
      ],
      "text/plain": [
       "       On Time  Delayed  y_pred  y_test\n",
       "0         0.93     0.07       0       0\n",
       "1         0.28     0.72       1       1\n",
       "2         0.87     0.13       0       0\n",
       "3         0.02     0.98       1       1\n",
       "4         0.83     0.17       0       1\n",
       "...        ...      ...     ...     ...\n",
       "63472     0.34     0.66       1       0\n",
       "63473     0.84     0.16       0       0\n",
       "63474     0.00     1.00       1       1\n",
       "63475     0.52     0.48       0       0\n",
       "63476     0.60     0.40       0       0\n",
       "\n",
       "[63477 rows x 4 columns]"
      ]
     },
     "execution_count": 13,
     "metadata": {},
     "output_type": "execute_result"
    }
   ],
   "source": [
    "dfn1 = pd.DataFrame(prob, columns=[\"On Time\", \"Delayed\"])\n",
    "dfn1['y_pred'] = y_pred\n",
    "dfn1['y_test'] = y_test\n",
    "\n",
    "dfn1"
   ]
  },
  {
   "cell_type": "code",
   "execution_count": 14,
   "id": "b0b6489d-b14e-4356-bfdd-790c04a8d76c",
   "metadata": {},
   "outputs": [
    {
     "data": {
      "text/html": [
       "<div>\n",
       "<style scoped>\n",
       "    .dataframe tbody tr th:only-of-type {\n",
       "        vertical-align: middle;\n",
       "    }\n",
       "\n",
       "    .dataframe tbody tr th {\n",
       "        vertical-align: top;\n",
       "    }\n",
       "\n",
       "    .dataframe thead th {\n",
       "        text-align: right;\n",
       "    }\n",
       "</style>\n",
       "<table border=\"1\" class=\"dataframe\">\n",
       "  <thead>\n",
       "    <tr style=\"text-align: right;\">\n",
       "      <th></th>\n",
       "      <th>On Time</th>\n",
       "      <th>Delayed</th>\n",
       "      <th>y_pred</th>\n",
       "      <th>y_test</th>\n",
       "      <th>32_pred</th>\n",
       "    </tr>\n",
       "  </thead>\n",
       "  <tbody>\n",
       "    <tr>\n",
       "      <th>0</th>\n",
       "      <td>0.93</td>\n",
       "      <td>0.07</td>\n",
       "      <td>0</td>\n",
       "      <td>0</td>\n",
       "      <td>0</td>\n",
       "    </tr>\n",
       "    <tr>\n",
       "      <th>1</th>\n",
       "      <td>0.28</td>\n",
       "      <td>0.72</td>\n",
       "      <td>1</td>\n",
       "      <td>1</td>\n",
       "      <td>1</td>\n",
       "    </tr>\n",
       "    <tr>\n",
       "      <th>2</th>\n",
       "      <td>0.87</td>\n",
       "      <td>0.13</td>\n",
       "      <td>0</td>\n",
       "      <td>0</td>\n",
       "      <td>0</td>\n",
       "    </tr>\n",
       "    <tr>\n",
       "      <th>3</th>\n",
       "      <td>0.02</td>\n",
       "      <td>0.98</td>\n",
       "      <td>1</td>\n",
       "      <td>1</td>\n",
       "      <td>1</td>\n",
       "    </tr>\n",
       "    <tr>\n",
       "      <th>4</th>\n",
       "      <td>0.83</td>\n",
       "      <td>0.17</td>\n",
       "      <td>0</td>\n",
       "      <td>1</td>\n",
       "      <td>0</td>\n",
       "    </tr>\n",
       "    <tr>\n",
       "      <th>...</th>\n",
       "      <td>...</td>\n",
       "      <td>...</td>\n",
       "      <td>...</td>\n",
       "      <td>...</td>\n",
       "      <td>...</td>\n",
       "    </tr>\n",
       "    <tr>\n",
       "      <th>63472</th>\n",
       "      <td>0.34</td>\n",
       "      <td>0.66</td>\n",
       "      <td>1</td>\n",
       "      <td>0</td>\n",
       "      <td>1</td>\n",
       "    </tr>\n",
       "    <tr>\n",
       "      <th>63473</th>\n",
       "      <td>0.84</td>\n",
       "      <td>0.16</td>\n",
       "      <td>0</td>\n",
       "      <td>0</td>\n",
       "      <td>0</td>\n",
       "    </tr>\n",
       "    <tr>\n",
       "      <th>63474</th>\n",
       "      <td>0.00</td>\n",
       "      <td>1.00</td>\n",
       "      <td>1</td>\n",
       "      <td>1</td>\n",
       "      <td>1</td>\n",
       "    </tr>\n",
       "    <tr>\n",
       "      <th>63475</th>\n",
       "      <td>0.52</td>\n",
       "      <td>0.48</td>\n",
       "      <td>0</td>\n",
       "      <td>0</td>\n",
       "      <td>1</td>\n",
       "    </tr>\n",
       "    <tr>\n",
       "      <th>63476</th>\n",
       "      <td>0.60</td>\n",
       "      <td>0.40</td>\n",
       "      <td>0</td>\n",
       "      <td>0</td>\n",
       "      <td>1</td>\n",
       "    </tr>\n",
       "  </tbody>\n",
       "</table>\n",
       "<p>63477 rows × 5 columns</p>\n",
       "</div>"
      ],
      "text/plain": [
       "       On Time  Delayed  y_pred  y_test  32_pred\n",
       "0         0.93     0.07       0       0        0\n",
       "1         0.28     0.72       1       1        1\n",
       "2         0.87     0.13       0       0        0\n",
       "3         0.02     0.98       1       1        1\n",
       "4         0.83     0.17       0       1        0\n",
       "...        ...      ...     ...     ...      ...\n",
       "63472     0.34     0.66       1       0        1\n",
       "63473     0.84     0.16       0       0        0\n",
       "63474     0.00     1.00       1       1        1\n",
       "63475     0.52     0.48       0       0        1\n",
       "63476     0.60     0.40       0       0        1\n",
       "\n",
       "[63477 rows x 5 columns]"
      ]
     },
     "execution_count": 14,
     "metadata": {},
     "output_type": "execute_result"
    }
   ],
   "source": [
    "dfn1['32_pred'] = np.where((dfn1['Delayed'] > 0.32) , 1, 0)\n",
    "\n",
    "dfn1"
   ]
  },
  {
   "cell_type": "code",
   "execution_count": 15,
   "id": "871cdca2-ba9b-4614-a76e-5339d7a50f7c",
   "metadata": {},
   "outputs": [
    {
     "name": "stdout",
     "output_type": "stream",
     "text": [
      "              precision    recall  f1-score   support\n",
      "\n",
      "           0       0.86      0.93      0.89     44536\n",
      "           1       0.80      0.66      0.72     18941\n",
      "\n",
      "    accuracy                           0.85     63477\n",
      "   macro avg       0.83      0.79      0.81     63477\n",
      "weighted avg       0.84      0.85      0.84     63477\n",
      "\n"
     ]
    },
    {
     "data": {
      "image/png": "[encoded data removed]",
      "text/plain": [
       "<Figure size 640x480 with 2 Axes>"
      ]
     },
     "metadata": {},
     "output_type": "display_data"
    }
   ],
   "source": [
    "from sklearn.metrics import classification_report, confusion_matrix\n",
    "cm32 = confusion_matrix(y_test, dfn1['32_pred'])\n",
    "sns.heatmap(cm32, annot=True, fmt='d').set_title('32 confusion matrix')\n",
    "\n",
    "print(classification_report(y_test,y_pred))\n",
    "#Vertical (actual), horizontal (prediction)"
   ]
  },
  {
   "cell_type": "code",
   "execution_count": 16,
   "id": "ad03671e-62ea-4060-81de-73a50a0ba9af",
   "metadata": {},
   "outputs": [
    {
     "name": "stdout",
     "output_type": "stream",
     "text": [
      "On Time 68 : 82.50179629962278 \n",
      "Delayed 32: 81.60603980782429\n"
     ]
    }
   ],
   "source": [
    "a,b = (cm32.diagonal()/cm32.sum(axis=1))*100\n",
    "print (\"On Time 68 :\", a,\n",
    "       \"\\nDelayed 32:\", b)"
   ]
  },
  {
   "cell_type": "code",
   "execution_count": 17,
   "id": "9896f859-2161-4ff3-9f34-cac8c9a229a1",
   "metadata": {},
   "outputs": [],
   "source": [
    "#final Prediction (delayed @ 32%)"
   ]
  }
 ],
 "metadata": {
  "kernelspec": {
   "display_name": "Python 3 (ipykernel)",
   "language": "python",
   "name": "python3"
  },
  "language_info": {
   "codemirror_mode": {
    "name": "ipython",
    "version": 3
   },
   "file_extension": ".py",
   "mimetype": "text/x-python",
   "name": "python",
   "nbconvert_exporter": "python",
   "pygments_lexer": "ipython3",
   "version": "3.9.13"
  }
 },
 "nbformat": 4,
 "nbformat_minor": 5
}
