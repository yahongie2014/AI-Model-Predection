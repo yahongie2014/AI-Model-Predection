{
 "cells": [
  {
   "cell_type": "markdown",
   "id": "2da6f766-beed-43d5-a466-2aca72f37166",
   "metadata": {
    "tags": []
   },
   "source": [
    "<a id='wrang'></a>\n",
    "# 1. Data Wrangling"
   ]
  },
  {
   "cell_type": "code",
   "execution_count": 4,
   "id": "1a560d8f-442e-424a-b4fa-09c7c66fb0ba",
   "metadata": {
    "tags": []
   },
   "source": [
    "from sklearn.datasets import make_classification\n",
    "from sklearn import linear_model\n",
    "from sklearn import preprocessing\n",
    "from sklearn.linear_model import LogisticRegression\n",
    "from sklearn.model_selection import train_test_split\n",
    "from sklearn.ensemble import RandomForestClassifier\n",
    "from sklearn.metrics import classification_report, confusion_matrix\n",
    "from sklearn.metrics.pairwise import _euclidean_distances\n",
    "from imblearn.over_sampling import SMOTE\n",
    "import matplotlib.pyplot as plt\n",
    "import seaborn  as sns\n",
    "import pandas as pd\n",
    "import numpy as np\n",
    "import scipy\n",
    "import scipy.stats as stats\n",
    "import statsmodels.api as sm\n",
    "import pickle\n",
    "\n",
    "%matplotlib inline\n",
    "plt.rc(\"font\", size=14)\n",
    "sns.set(style=\"white\")\n",
    "sns.set(style=\"whitegrid\", color_codes=True)"
   ],
   "outputs": []
  },
  {
   "cell_type": "code",
   "execution_count": 5,
   "id": "8fe6841c-3699-49c0-8436-eb427bf25169",
   "metadata": {},
   "source": [
    "pd.set_option('display.max_rows', 500)\n",
    "pd.set_option('display.max_columns', 500)"
   ],
   "outputs": []
  },
  {
   "cell_type": "code",
   "execution_count": 6,
   "id": "f1cd7a16-6ea4-45ec-a008-d5a903b1c751",
   "metadata": {},
   "source": [
    "#importing raw data\n",
    "df2= pd.read_csv(\"C://Users//ahmed.saeed//Desktop//Job_Risk//Job_Risk//Delay//df2_JOB_RISK2.csv\", sep=',', low_memory=False)\n",
    "df2"
   ],
   "outputs": []
  },
  {
   "cell_type": "code",
   "execution_count": 11,
   "id": "bd19a38a-d623-4761-a9ad-b253cadcb10c",
   "metadata": {},
   "source": [
    "filename = 'C://Users//ahmed.saeed//Desktop//Job_Risk//Job_Risk//Delay//rf_model_fitted_Delay.sav'\n",
    "rf_model = pickle.load(open(filename, 'rb'))\n"
   ],
   "outputs": []
  },
  {
   "cell_type": "code",
   "execution_count": 9,
   "id": "7c7e7e91-9791-4ad8-b76e-ebca2200f6c8",
   "metadata": {},
   "source": [
    "X = df2[['Brand', 'Unit', 'Job_type','Subject','Language_Pair','Start_TimeStamp',\n",
    "        'Deivery_TimeStamp','amount','Duration', 'PM', 'Account']]\n",
    "y = np.array(df2[\"Delay\"]).astype(int)\n",
    "X_train, X_test, y_train, y_test = train_test_split(X, y, test_size=0.2, random_state=44)\n"
   ],
   "outputs": []
  },
  {
   "cell_type": "markdown",
   "id": "24984cef-a195-4869-a746-0f1101d98538",
   "metadata": {},
   "source": [
    "# Step 3. – Making predictions with our model"
   ]
  },
  {
   "cell_type": "code",
   "execution_count": 12,
   "id": "90d11fad-b790-4df4-b96c-ace98485c61f",
   "metadata": {},
   "source": [
    "y_pred = rf_model.predict(X_test)\n",
    "y_pred"
   ],
   "outputs": []
  },
  {
   "cell_type": "code",
   "execution_count": 13,
   "id": "46df3836-f208-45f7-ae33-0493411cf0c0",
   "metadata": {},
   "source": [
    "y_test"
   ],
   "outputs": []
  },
  {
   "cell_type": "code",
   "execution_count": 14,
   "id": "43b7a4f6-4b14-4d01-92c6-592c695ece2b",
   "metadata": {},
   "source": [
    "prob = rf_model.predict_proba(X_test)\n",
    "prob"
   ],
   "outputs": []
  },
  {
   "cell_type": "code",
   "execution_count": 15,
   "id": "33555bc8-8331-49a0-b180-aa89a2f89237",
   "metadata": {},
   "source": [
    "rf_model.classes_"
   ],
   "outputs": []
  },
  {
   "cell_type": "code",
   "execution_count": 16,
   "id": "f27002bb-e4e1-497c-b8ca-d1c15cdbb1b4",
   "metadata": {},
   "source": [
    "from sklearn.metrics import classification_report, confusion_matrix\n",
    "cm = confusion_matrix(y_test, y_pred)\n",
    "sns.heatmap(cm, annot=True, fmt='d').set_title('Maternal risks confusion matrix')\n",
    "\n",
    "print(classification_report(y_test,y_pred))\n",
    "#Vertical (actual), horizontal (prediction)"
   ],
   "outputs": []
  },
  {
   "cell_type": "code",
   "execution_count": 22,
   "id": "7349d812-b4bc-49e4-8d7b-54f0679fd5ba",
   "metadata": {},
   "source": [
    "a,b = (cm.diagonal()/cm.sum(axis=1))*100\n",
    "print (\"On Time :\", a,\n",
    "       \"\\nDelayed:\", b)"
   ],
   "outputs": []
  },
  {
   "cell_type": "code",
   "execution_count": 23,
   "id": "35fca4f8-d148-4852-b194-efe86e161f1e",
   "metadata": {},
   "source": [
    "importances = rf_model.feature_importances_\n",
    "columns = X.columns\n",
    "i = 0\n",
    "\n",
    "while i < len(columns):\n",
    "    print (f\" the importance of feature '{columns[i]}' is {round(importances[i]*100, 2)}%.\")\n",
    "    i+=1"
   ],
   "outputs": []
  },
  {
   "cell_type": "code",
   "execution_count": 25,
   "id": "9fedfe81-ce42-4f4e-8341-093b42f026eb",
   "metadata": {
    "tags": []
   },
   "source": [
    "dfn1 = pd.DataFrame(prob, columns=[\"On Time\", \"Delayed\"])\n",
    "dfn1['y_pred'] = y_pred\n",
    "dfn1['y_test'] = y_test\n",
    "\n",
    "dfn1"
   ],
   "outputs": []
  },
  {
   "cell_type": "code",
   "execution_count": 26,
   "id": "b0b6489d-b14e-4356-bfdd-790c04a8d76c",
   "metadata": {},
   "source": [
    "dfn1['32_pred'] = np.where((dfn1['Delayed'] > 0.32) , 1, 0)\n",
    "\n",
    "dfn1"
   ],
   "outputs": []
  },
  {
   "cell_type": "code",
   "execution_count": 27,
   "id": "871cdca2-ba9b-4614-a76e-5339d7a50f7c",
   "metadata": {},
   "source": [
    "from sklearn.metrics import classification_report, confusion_matrix\n",
    "cm32 = confusion_matrix(y_test, dfn1['32_pred'])\n",
    "sns.heatmap(cm32, annot=True, fmt='d').set_title('32 confusion matrix')\n",
    "\n",
    "print(classification_report(y_test,y_pred))\n",
    "#Vertical (actual), horizontal (prediction)"
   ],
   "outputs": []
  },
  {
   "cell_type": "code",
   "execution_count": 29,
   "id": "ad03671e-62ea-4060-81de-73a50a0ba9af",
   "metadata": {},
   "source": [
    "a,b = (cm32.diagonal()/cm32.sum(axis=1))*100\n",
    "print (\"On Time 68 :\", a,\n",
    "       \"\\nDelayed 32:\", b)"
   ],
   "outputs": []
  },
  {
   "cell_type": "code",
   "execution_count": 17,
   "id": "9896f859-2161-4ff3-9f34-cac8c9a229a1",
   "metadata": {},
   "source": [
    "#final Prediction (delayed @ 32%)"
   ],
   "outputs": []
  }
 ],
 "metadata": {
  "kernelspec": {
   "display_name": "Python 3 (ipykernel)",
   "language": "python",
   "name": "python3"
  },
  "language_info": {
   "codemirror_mode": {
    "name": "ipython",
    "version": 3
   },
   "file_extension": ".py",
   "mimetype": "text/x-python",
   "name": "python",
   "nbconvert_exporter": "python",
   "pygments_lexer": "ipython3",
   "version": "3.9.13"
  }
 },
 "nbformat": 4,
 "nbformat_minor": 5
}
