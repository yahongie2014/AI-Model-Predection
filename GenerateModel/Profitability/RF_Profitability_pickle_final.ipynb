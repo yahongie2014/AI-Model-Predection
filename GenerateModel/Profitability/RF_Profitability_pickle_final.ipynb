{
 "cells": [
  {
   "cell_type": "markdown",
   "id": "57127d99-4a01-4b89-b28c-5818ddc61c79",
   "metadata": {
    "tags": []
   },
   "source": [
    "<a id='wrang'></a>\n",
    "# 1. Data Wrangling"
   ]
  },
  {
   "cell_type": "code",
   "execution_count": 1,
   "id": "0e77e339-48ce-4d3a-b26a-58179b568deb",
   "metadata": {
    "tags": []
   },
   "source": [
    "from sklearn.datasets import make_classification\n",
    "from sklearn import linear_model\n",
    "from sklearn import preprocessing\n",
    "from sklearn.linear_model import LogisticRegression\n",
    "from sklearn.model_selection import train_test_split\n",
    "from sklearn.ensemble import RandomForestClassifier\n",
    "from sklearn.metrics import classification_report, confusion_matrix\n",
    "from sklearn.metrics.pairwise import _euclidean_distances\n",
    "from imblearn.over_sampling import SMOTE\n",
    "import matplotlib.pyplot as plt\n",
    "import seaborn  as sns\n",
    "import pandas as pd\n",
    "import numpy as np\n",
    "import scipy\n",
    "import scipy.stats as stats\n",
    "import statsmodels.api as sm\n",
    "import pickle\n",
    "\n",
    "%matplotlib inline\n",
    "plt.rc(\"font\", size=14)\n",
    "sns.set(style=\"white\")\n",
    "sns.set(style=\"whitegrid\", color_codes=True)"
   ],
   "outputs": []
  },
  {
   "cell_type": "code",
   "execution_count": 2,
   "id": "e9ee6f8c-139d-4453-8556-b112209fd977",
   "metadata": {},
   "source": [
    "pd.set_option('display.max_rows', 500)\n",
    "pd.set_option('display.max_columns', 500)"
   ],
   "outputs": []
  },
  {
   "cell_type": "code",
   "execution_count": 3,
   "id": "1dee8266-c6af-43d9-9baa-06ce0c9a2d5f",
   "metadata": {},
   "source": [
    "#importing raw data\n",
    "df2= pd.read_csv(\"C://Users//ahmed.saeed//Desktop//Job_Risk//Job_Risk//Profitability//df2_JOB_RISK2.csv\", sep=',', low_memory=False)\n",
    "df2"
   ],
   "outputs": []
  },
  {
   "cell_type": "code",
   "execution_count": 4,
   "id": "1601df5f-675d-458c-97fe-2abdc643d9d2",
   "metadata": {},
   "source": [
    "filename = 'C://Users//ahmed.saeed//Desktop//Job_Risk//Job_Risk//Profitability//rf_model_fitted_profitability.sav'\n",
    "rf_model = pickle.load(open(filename, 'rb'))\n"
   ],
   "outputs": []
  },
  {
   "cell_type": "code",
   "execution_count": 5,
   "id": "14ff5866-cac2-455b-b520-fc1dd7267407",
   "metadata": {},
   "source": [
    "# Introduing features and label\n",
    "X = df2[['Brand', 'Unit', 'Job_type','Subject', 'Language_Pair','Start_TimeStamp',\n",
    "         'Price','Deivery_TimeStamp','amount','Duration', 'PM', 'Account']]\n",
    "y = np.array(df2[\"profitability\"]).astype(int)\n",
    "X_train, X_test, y_train, y_test = train_test_split(X, y, test_size=0.2, random_state=44)\n"
   ],
   "outputs": []
  },
  {
   "cell_type": "markdown",
   "id": "239058a5-1c2b-4154-9a3b-699415e57327",
   "metadata": {},
   "source": [
    "# Step 3. – Making predictions with our model"
   ]
  },
  {
   "cell_type": "code",
   "execution_count": 6,
   "id": "6e29ffab-71a6-41b9-8b19-43044dfa14bb",
   "metadata": {},
   "source": [
    "y_pred = rf_model.predict(X_test)\n",
    "y_pred"
   ],
   "outputs": []
  },
  {
   "cell_type": "code",
   "execution_count": 7,
   "id": "f01bcc68-cbb4-4a37-af48-e368095a300c",
   "metadata": {},
   "source": [
    "y_test"
   ],
   "outputs": []
  },
  {
   "cell_type": "code",
   "execution_count": 8,
   "id": "88946aef-9e3a-4c36-9839-6dfa708248c4",
   "metadata": {},
   "source": [
    "prob = rf_model.predict_proba(X_test)\n",
    "prob"
   ],
   "outputs": []
  },
  {
   "cell_type": "code",
   "execution_count": 9,
   "id": "9305c1b6-a4ce-4ba9-9f2a-cf231ac26f81",
   "metadata": {},
   "source": [
    "rf_model.classes_"
   ],
   "outputs": []
  },
  {
   "cell_type": "code",
   "execution_count": 10,
   "id": "eb613f38-6d6b-4221-a771-adcb18a5b4f5",
   "metadata": {},
   "source": [
    "from sklearn.metrics import classification_report, confusion_matrix\n",
    "cm = confusion_matrix(y_test, y_pred)\n",
    "sns.heatmap(cm, annot=True, fmt='d').set_title('Maternal risks confusion matrix (0 = fail, 1 = success)')\n",
    "\n",
    "print(classification_report(y_test,y_pred))\n",
    "#Vertical (actual), horizontal (prediction)"
   ],
   "outputs": []
  },
  {
   "cell_type": "code",
   "execution_count": 11,
   "id": "8a495bd4-6130-46d3-a73c-d6ea9a0abe6a",
   "metadata": {},
   "source": [
    "# Categories Accuracy\n",
    "a,b,c = (cm.diagonal()/cm.sum(axis=1))*100\n",
    "print (\"Low :\", a,\n",
    "       \"\\nNormal:\", b,\n",
    "       \"\\nHigh:\", c)\n"
   ],
   "outputs": []
  },
  {
   "cell_type": "code",
   "execution_count": 12,
   "id": "0f9e1ff3-c70c-46b7-ab07-3c994cac38d1",
   "metadata": {},
   "source": [
    "importances = rf_model.feature_importances_\n",
    "columns = X.columns\n",
    "i = 0\n",
    "\n",
    "while i < len(columns):\n",
    "    print (f\" the importance of feature '{columns[i]}' is {round(importances[i]*100, 2)}%.\")\n",
    "    i+=1"
   ],
   "outputs": []
  },
  {
   "cell_type": "code",
   "execution_count": 13,
   "id": "a6e177b4-e601-4353-b3a0-d6da90edb056",
   "metadata": {
    "tags": []
   },
   "source": [
    "dfn1 = pd.DataFrame(prob, columns=[\"Low\", \"Normal\", \"High\"])\n",
    "dfn1['y_pred'] = y_pred\n",
    "dfn1['y_test'] = y_test\n",
    "\n",
    "dfn1"
   ],
   "outputs": []
  },
  {
   "cell_type": "code",
   "execution_count": 14,
   "id": "a1917a4a-0213-44cb-b57e-6203fc8b1570",
   "metadata": {},
   "source": [
    "dfn1['25_pred'] = np.where((dfn1['Low'] >= 0.25) , 0, dfn1['y_pred'])\n",
    "\n",
    "dfn1"
   ],
   "outputs": []
  },
  {
   "cell_type": "code",
   "execution_count": 15,
   "id": "ea3607f9-d186-4391-ad5a-85803b686781",
   "metadata": {
    "tags": []
   },
   "source": [
    "dfn1.to_excel(\"C://Users//ahmed.saeed//Desktop//Job_Risk//Job_Risk//Profitability//RF_Profitability.xlsx\", header=True)"
   ],
   "outputs": []
  },
  {
   "cell_type": "code",
   "execution_count": 16,
   "id": "72a2136d-20fb-422c-af3c-df6d02fd2f3d",
   "metadata": {},
   "source": [
    "from sklearn.metrics import classification_report, confusion_matrix\n",
    "cm25 = confusion_matrix(y_test, dfn1['25_pred'])\n",
    "sns.heatmap(cm25, annot=True, fmt='d').set_title('25 confusion matrix')\n",
    "\n",
    "print(classification_report(y_test,y_pred))\n",
    "#Vertical (actual), horizontal (prediction)"
   ],
   "outputs": []
  },
  {
   "cell_type": "code",
   "execution_count": 17,
   "id": "b42eaf11-5ec5-4536-b9f3-3247141d686f",
   "metadata": {},
   "source": [
    "# Categories Accuracy\n",
    "a,b,c = (cm25.diagonal()/cm25.sum(axis=1))*100\n",
    "print (\"Low :\", a,\n",
    "       \"\\nNormal:\", b,\n",
    "       \"\\nHigh:\", c)"
   ],
   "outputs": []
  },
  {
   "cell_type": "code",
   "execution_count": 18,
   "id": "7348211d-fccb-4310-b583-8ae0a49a5253",
   "metadata": {},
   "source": [
    "# final Prediction (low @ 25%)"
   ],
   "outputs": []
  }
 ],
 "metadata": {
  "kernelspec": {
   "display_name": "Python 3 (ipykernel)",
   "language": "python",
   "name": "python3"
  },
  "language_info": {
   "codemirror_mode": {
    "name": "ipython",
    "version": 3
   },
   "file_extension": ".py",
   "mimetype": "text/x-python",
   "name": "python",
   "nbconvert_exporter": "python",
   "pygments_lexer": "ipython3",
   "version": "3.9.13"
  }
 },
 "nbformat": 4,
 "nbformat_minor": 5
}
