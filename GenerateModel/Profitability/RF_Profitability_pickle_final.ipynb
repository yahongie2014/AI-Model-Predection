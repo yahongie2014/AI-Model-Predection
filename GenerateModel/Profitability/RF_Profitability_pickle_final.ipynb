{
 "cells": [
  {
   "cell_type": "markdown",
   "id": "57127d99-4a01-4b89-b28c-5818ddc61c79",
   "metadata": {
    "tags": []
   },
   "source": [
    "<a id='wrang'></a>\n",
    "# 1. Data Wrangling"
   ]
  },
  {
   "cell_type": "code",
   "execution_count": 1,
   "id": "0e77e339-48ce-4d3a-b26a-58179b568deb",
   "metadata": {
    "tags": []
   },
   "outputs": [],
   "source": [
    "from sklearn.datasets import make_classification\n",
    "from sklearn import linear_model\n",
    "from sklearn import preprocessing\n",
    "from sklearn.linear_model import LogisticRegression\n",
    "from sklearn.model_selection import train_test_split\n",
    "from sklearn.ensemble import RandomForestClassifier\n",
    "from sklearn.metrics import classification_report, confusion_matrix\n",
    "from sklearn.metrics.pairwise import _euclidean_distances\n",
    "from imblearn.over_sampling import SMOTE\n",
    "import matplotlib.pyplot as plt\n",
    "import seaborn  as sns\n",
    "import pandas as pd\n",
    "import numpy as np\n",
    "import scipy\n",
    "import scipy.stats as stats\n",
    "import statsmodels.api as sm\n",
    "import pickle\n",
    "\n",
    "%matplotlib inline\n",
    "plt.rc(\"font\", size=14)\n",
    "sns.set(style=\"white\")\n",
    "sns.set(style=\"whitegrid\", color_codes=True)"
   ]
  },
  {
   "cell_type": "code",
   "execution_count": 2,
   "id": "e9ee6f8c-139d-4453-8556-b112209fd977",
   "metadata": {},
   "outputs": [],
   "source": [
    "pd.set_option('display.max_rows', 500)\n",
    "pd.set_option('display.max_columns', 500)"
   ]
  },
  {
   "cell_type": "code",
   "execution_count": 3,
   "id": "1dee8266-c6af-43d9-9baa-06ce0c9a2d5f",
   "metadata": {},
   "outputs": [
    {
     "data": {
      "text/html": [
       "<div>\n",
       "<style scoped>\n",
       "    .dataframe tbody tr th:only-of-type {\n",
       "        vertical-align: middle;\n",
       "    }\n",
       "\n",
       "    .dataframe tbody tr th {\n",
       "        vertical-align: top;\n",
       "    }\n",
       "\n",
       "    .dataframe thead th {\n",
       "        text-align: right;\n",
       "    }\n",
       "</style>\n",
       "<table border=\"1\" class=\"dataframe\">\n",
       "  <thead>\n",
       "    <tr style=\"text-align: right;\">\n",
       "      <th></th>\n",
       "      <th>Unnamed: 0</th>\n",
       "      <th>Brand</th>\n",
       "      <th>Unit</th>\n",
       "      <th>Job_type</th>\n",
       "      <th>Subject</th>\n",
       "      <th>Delay</th>\n",
       "      <th>Language_Pair</th>\n",
       "      <th>Start_TimeStamp</th>\n",
       "      <th>Price</th>\n",
       "      <th>Deivery_TimeStamp</th>\n",
       "      <th>amount</th>\n",
       "      <th>Duration</th>\n",
       "      <th>PM</th>\n",
       "      <th>Account</th>\n",
       "      <th>feedback</th>\n",
       "      <th>profitability</th>\n",
       "    </tr>\n",
       "  </thead>\n",
       "  <tbody>\n",
       "    <tr>\n",
       "      <th>0</th>\n",
       "      <td>0</td>\n",
       "      <td>13</td>\n",
       "      <td>4</td>\n",
       "      <td>12</td>\n",
       "      <td>22</td>\n",
       "      <td>0</td>\n",
       "      <td>274</td>\n",
       "      <td>1182.42</td>\n",
       "      <td>0.00</td>\n",
       "      <td>1182.67</td>\n",
       "      <td>2.50</td>\n",
       "      <td>0.25</td>\n",
       "      <td>34</td>\n",
       "      <td>8089</td>\n",
       "      <td>0</td>\n",
       "      <td>0</td>\n",
       "    </tr>\n",
       "    <tr>\n",
       "      <th>1</th>\n",
       "      <td>1</td>\n",
       "      <td>0</td>\n",
       "      <td>4</td>\n",
       "      <td>12</td>\n",
       "      <td>22</td>\n",
       "      <td>0</td>\n",
       "      <td>710</td>\n",
       "      <td>1182.39</td>\n",
       "      <td>0.00</td>\n",
       "      <td>1182.50</td>\n",
       "      <td>0.25</td>\n",
       "      <td>0.11</td>\n",
       "      <td>166</td>\n",
       "      <td>5301</td>\n",
       "      <td>1</td>\n",
       "      <td>0</td>\n",
       "    </tr>\n",
       "    <tr>\n",
       "      <th>2</th>\n",
       "      <td>2</td>\n",
       "      <td>13</td>\n",
       "      <td>10</td>\n",
       "      <td>24</td>\n",
       "      <td>22</td>\n",
       "      <td>0</td>\n",
       "      <td>44</td>\n",
       "      <td>1182.38</td>\n",
       "      <td>30.57</td>\n",
       "      <td>1182.51</td>\n",
       "      <td>401.00</td>\n",
       "      <td>0.13</td>\n",
       "      <td>114</td>\n",
       "      <td>673</td>\n",
       "      <td>0</td>\n",
       "      <td>2</td>\n",
       "    </tr>\n",
       "    <tr>\n",
       "      <th>3</th>\n",
       "      <td>3</td>\n",
       "      <td>6</td>\n",
       "      <td>10</td>\n",
       "      <td>22</td>\n",
       "      <td>32</td>\n",
       "      <td>0</td>\n",
       "      <td>452</td>\n",
       "      <td>1182.36</td>\n",
       "      <td>0.46</td>\n",
       "      <td>1182.46</td>\n",
       "      <td>7.00</td>\n",
       "      <td>0.10</td>\n",
       "      <td>164</td>\n",
       "      <td>4448</td>\n",
       "      <td>0</td>\n",
       "      <td>2</td>\n",
       "    </tr>\n",
       "    <tr>\n",
       "      <th>4</th>\n",
       "      <td>4</td>\n",
       "      <td>13</td>\n",
       "      <td>10</td>\n",
       "      <td>24</td>\n",
       "      <td>22</td>\n",
       "      <td>1</td>\n",
       "      <td>44</td>\n",
       "      <td>1182.34</td>\n",
       "      <td>7.47</td>\n",
       "      <td>1182.36</td>\n",
       "      <td>98.00</td>\n",
       "      <td>0.02</td>\n",
       "      <td>114</td>\n",
       "      <td>673</td>\n",
       "      <td>0</td>\n",
       "      <td>2</td>\n",
       "    </tr>\n",
       "    <tr>\n",
       "      <th>...</th>\n",
       "      <td>...</td>\n",
       "      <td>...</td>\n",
       "      <td>...</td>\n",
       "      <td>...</td>\n",
       "      <td>...</td>\n",
       "      <td>...</td>\n",
       "      <td>...</td>\n",
       "      <td>...</td>\n",
       "      <td>...</td>\n",
       "      <td>...</td>\n",
       "      <td>...</td>\n",
       "      <td>...</td>\n",
       "      <td>...</td>\n",
       "      <td>...</td>\n",
       "      <td>...</td>\n",
       "      <td>...</td>\n",
       "    </tr>\n",
       "    <tr>\n",
       "      <th>317378</th>\n",
       "      <td>327338</td>\n",
       "      <td>8</td>\n",
       "      <td>10</td>\n",
       "      <td>25</td>\n",
       "      <td>22</td>\n",
       "      <td>0</td>\n",
       "      <td>624</td>\n",
       "      <td>-113.46</td>\n",
       "      <td>7.40</td>\n",
       "      <td>1.67</td>\n",
       "      <td>123.33</td>\n",
       "      <td>115.13</td>\n",
       "      <td>63</td>\n",
       "      <td>7846</td>\n",
       "      <td>0</td>\n",
       "      <td>2</td>\n",
       "    </tr>\n",
       "    <tr>\n",
       "      <th>317379</th>\n",
       "      <td>327339</td>\n",
       "      <td>11</td>\n",
       "      <td>4</td>\n",
       "      <td>12</td>\n",
       "      <td>52</td>\n",
       "      <td>1</td>\n",
       "      <td>274</td>\n",
       "      <td>-237.54</td>\n",
       "      <td>30.00</td>\n",
       "      <td>-237.33</td>\n",
       "      <td>1.00</td>\n",
       "      <td>0.21</td>\n",
       "      <td>10</td>\n",
       "      <td>5445</td>\n",
       "      <td>0</td>\n",
       "      <td>2</td>\n",
       "    </tr>\n",
       "    <tr>\n",
       "      <th>317380</th>\n",
       "      <td>327340</td>\n",
       "      <td>11</td>\n",
       "      <td>4</td>\n",
       "      <td>23</td>\n",
       "      <td>22</td>\n",
       "      <td>1</td>\n",
       "      <td>298</td>\n",
       "      <td>-313.71</td>\n",
       "      <td>22.00</td>\n",
       "      <td>-313.33</td>\n",
       "      <td>1.00</td>\n",
       "      <td>0.38</td>\n",
       "      <td>10</td>\n",
       "      <td>5809</td>\n",
       "      <td>0</td>\n",
       "      <td>2</td>\n",
       "    </tr>\n",
       "    <tr>\n",
       "      <th>317381</th>\n",
       "      <td>327341</td>\n",
       "      <td>6</td>\n",
       "      <td>4</td>\n",
       "      <td>12</td>\n",
       "      <td>22</td>\n",
       "      <td>1</td>\n",
       "      <td>650</td>\n",
       "      <td>-452.71</td>\n",
       "      <td>94.12</td>\n",
       "      <td>-452.33</td>\n",
       "      <td>2.27</td>\n",
       "      <td>0.38</td>\n",
       "      <td>5</td>\n",
       "      <td>5234</td>\n",
       "      <td>0</td>\n",
       "      <td>2</td>\n",
       "    </tr>\n",
       "    <tr>\n",
       "      <th>317382</th>\n",
       "      <td>327342</td>\n",
       "      <td>6</td>\n",
       "      <td>4</td>\n",
       "      <td>12</td>\n",
       "      <td>39</td>\n",
       "      <td>1</td>\n",
       "      <td>438</td>\n",
       "      <td>-608.75</td>\n",
       "      <td>30.00</td>\n",
       "      <td>-608.33</td>\n",
       "      <td>1.00</td>\n",
       "      <td>0.42</td>\n",
       "      <td>5</td>\n",
       "      <td>1418</td>\n",
       "      <td>0</td>\n",
       "      <td>2</td>\n",
       "    </tr>\n",
       "  </tbody>\n",
       "</table>\n",
       "<p>317383 rows × 16 columns</p>\n",
       "</div>"
      ],
      "text/plain": [
       "        Unnamed: 0  Brand  Unit  Job_type  Subject  Delay  Language_Pair  \\\n",
       "0                0     13     4        12       22      0            274   \n",
       "1                1      0     4        12       22      0            710   \n",
       "2                2     13    10        24       22      0             44   \n",
       "3                3      6    10        22       32      0            452   \n",
       "4                4     13    10        24       22      1             44   \n",
       "...            ...    ...   ...       ...      ...    ...            ...   \n",
       "317378      327338      8    10        25       22      0            624   \n",
       "317379      327339     11     4        12       52      1            274   \n",
       "317380      327340     11     4        23       22      1            298   \n",
       "317381      327341      6     4        12       22      1            650   \n",
       "317382      327342      6     4        12       39      1            438   \n",
       "\n",
       "        Start_TimeStamp  Price  Deivery_TimeStamp  amount  Duration   PM  \\\n",
       "0               1182.42   0.00            1182.67    2.50      0.25   34   \n",
       "1               1182.39   0.00            1182.50    0.25      0.11  166   \n",
       "2               1182.38  30.57            1182.51  401.00      0.13  114   \n",
       "3               1182.36   0.46            1182.46    7.00      0.10  164   \n",
       "4               1182.34   7.47            1182.36   98.00      0.02  114   \n",
       "...                 ...    ...                ...     ...       ...  ...   \n",
       "317378          -113.46   7.40               1.67  123.33    115.13   63   \n",
       "317379          -237.54  30.00            -237.33    1.00      0.21   10   \n",
       "317380          -313.71  22.00            -313.33    1.00      0.38   10   \n",
       "317381          -452.71  94.12            -452.33    2.27      0.38    5   \n",
       "317382          -608.75  30.00            -608.33    1.00      0.42    5   \n",
       "\n",
       "        Account  feedback  profitability  \n",
       "0          8089         0              0  \n",
       "1          5301         1              0  \n",
       "2           673         0              2  \n",
       "3          4448         0              2  \n",
       "4           673         0              2  \n",
       "...         ...       ...            ...  \n",
       "317378     7846         0              2  \n",
       "317379     5445         0              2  \n",
       "317380     5809         0              2  \n",
       "317381     5234         0              2  \n",
       "317382     1418         0              2  \n",
       "\n",
       "[317383 rows x 16 columns]"
      ]
     },
     "execution_count": 3,
     "metadata": {},
     "output_type": "execute_result"
    }
   ],
   "source": [
    "#importing raw data\n",
    "df2= pd.read_csv(\"C://Users//ahmed.saeed//Desktop//Job_Risk//Job_Risk//Profitability//df2_JOB_RISK2.csv\", sep=',', low_memory=False)\n",
    "df2"
   ]
  },
  {
   "cell_type": "code",
   "execution_count": 4,
   "id": "1601df5f-675d-458c-97fe-2abdc643d9d2",
   "metadata": {},
   "outputs": [
    {
     "name": "stderr",
     "output_type": "stream",
     "text": [
      "C:\\Users\\ahmed.saeed\\Anaconda3\\lib\\site-packages\\sklearn\\base.py:329: UserWarning: Trying to unpickle estimator DecisionTreeClassifier from version 1.2.1 when using version 1.0.2. This might lead to breaking code or invalid results. Use at your own risk. For more info please refer to:\n",
      "https://scikit-learn.org/stable/modules/model_persistence.html#security-maintainability-limitations\n",
      "  warnings.warn(\n",
      "C:\\Users\\ahmed.saeed\\Anaconda3\\lib\\site-packages\\sklearn\\base.py:329: UserWarning: Trying to unpickle estimator RandomForestClassifier from version 1.2.1 when using version 1.0.2. This might lead to breaking code or invalid results. Use at your own risk. For more info please refer to:\n",
      "https://scikit-learn.org/stable/modules/model_persistence.html#security-maintainability-limitations\n",
      "  warnings.warn(\n"
     ]
    }
   ],
   "source": [
    "filename = 'C://Users//ahmed.saeed//Desktop//Job_Risk//Job_Risk//Profitability//rf_model_fitted_profitability.sav'\n",
    "rf_model = pickle.load(open(filename, 'rb'))\n"
   ]
  },
  {
   "cell_type": "code",
   "execution_count": 5,
   "id": "14ff5866-cac2-455b-b520-fc1dd7267407",
   "metadata": {},
   "outputs": [],
   "source": [
    "# Introduing features and label\n",
    "X = df2[['Brand', 'Unit', 'Job_type','Subject', 'Language_Pair','Start_TimeStamp',\n",
    "         'Price','Deivery_TimeStamp','amount','Duration', 'PM', 'Account']]\n",
    "y = np.array(df2[\"profitability\"]).astype(int)\n",
    "X_train, X_test, y_train, y_test = train_test_split(X, y, test_size=0.2, random_state=44)\n"
   ]
  },
  {
   "cell_type": "markdown",
   "id": "239058a5-1c2b-4154-9a3b-699415e57327",
   "metadata": {},
   "source": [
    "# Step 3. – Making predictions with our model"
   ]
  },
  {
   "cell_type": "code",
   "execution_count": 6,
   "id": "6e29ffab-71a6-41b9-8b19-43044dfa14bb",
   "metadata": {},
   "outputs": [
    {
     "data": {
      "text/plain": [
       "array([2, 2, 0, ..., 2, 2, 2])"
      ]
     },
     "execution_count": 6,
     "metadata": {},
     "output_type": "execute_result"
    }
   ],
   "source": [
    "y_pred = rf_model.predict(X_test)\n",
    "y_pred"
   ]
  },
  {
   "cell_type": "code",
   "execution_count": 7,
   "id": "f01bcc68-cbb4-4a37-af48-e368095a300c",
   "metadata": {},
   "outputs": [
    {
     "data": {
      "text/plain": [
       "array([2, 2, 0, ..., 1, 2, 1])"
      ]
     },
     "execution_count": 7,
     "metadata": {},
     "output_type": "execute_result"
    }
   ],
   "source": [
    "y_test"
   ]
  },
  {
   "cell_type": "code",
   "execution_count": 8,
   "id": "88946aef-9e3a-4c36-9839-6dfa708248c4",
   "metadata": {},
   "outputs": [
    {
     "data": {
      "text/plain": [
       "array([[0.01, 0.12, 0.87],\n",
       "       [0.02, 0.07, 0.91],\n",
       "       [0.67, 0.33, 0.  ],\n",
       "       ...,\n",
       "       [0.01, 0.07, 0.92],\n",
       "       [0.02, 0.43, 0.55],\n",
       "       [0.14, 0.37, 0.49]])"
      ]
     },
     "execution_count": 8,
     "metadata": {},
     "output_type": "execute_result"
    }
   ],
   "source": [
    "prob = rf_model.predict_proba(X_test)\n",
    "prob"
   ]
  },
  {
   "cell_type": "code",
   "execution_count": 9,
   "id": "9305c1b6-a4ce-4ba9-9f2a-cf231ac26f81",
   "metadata": {},
   "outputs": [
    {
     "data": {
      "text/plain": [
       "array([0, 1, 2])"
      ]
     },
     "execution_count": 9,
     "metadata": {},
     "output_type": "execute_result"
    }
   ],
   "source": [
    "rf_model.classes_"
   ]
  },
  {
   "cell_type": "code",
   "execution_count": 10,
   "id": "eb613f38-6d6b-4221-a771-adcb18a5b4f5",
   "metadata": {},
   "outputs": [
    {
     "name": "stdout",
     "output_type": "stream",
     "text": [
      "              precision    recall  f1-score   support\n",
      "\n",
      "           0       0.74      0.61      0.67      8382\n",
      "           1       0.80      0.85      0.82     33417\n",
      "           2       0.80      0.78      0.79     21678\n",
      "\n",
      "    accuracy                           0.79     63477\n",
      "   macro avg       0.78      0.75      0.76     63477\n",
      "weighted avg       0.79      0.79      0.79     63477\n",
      "\n"
     ]
    },
    {
     "data": {
      "image/png": "[encoded data removed]",
      "text/plain": [
       "<Figure size 640x480 with 2 Axes>"
      ]
     },
     "metadata": {},
     "output_type": "display_data"
    }
   ],
   "source": [
    "from sklearn.metrics import classification_report, confusion_matrix\n",
    "cm = confusion_matrix(y_test, y_pred)\n",
    "sns.heatmap(cm, annot=True, fmt='d').set_title('Maternal risks confusion matrix (0 = fail, 1 = success)')\n",
    "\n",
    "print(classification_report(y_test,y_pred))\n",
    "#Vertical (actual), horizontal (prediction)"
   ]
  },
  {
   "cell_type": "code",
   "execution_count": 11,
   "id": "8a495bd4-6130-46d3-a73c-d6ea9a0abe6a",
   "metadata": {},
   "outputs": [
    {
     "name": "stdout",
     "output_type": "stream",
     "text": [
      "Low : 61.44118348842758 \n",
      "Normal: 84.60364485142293 \n",
      "High: 77.73779868991605\n"
     ]
    }
   ],
   "source": [
    "# Categories Accuracy\n",
    "a,b,c = (cm.diagonal()/cm.sum(axis=1))*100\n",
    "print (\"Low :\", a,\n",
    "       \"\\nNormal:\", b,\n",
    "       \"\\nHigh:\", c)\n"
   ]
  },
  {
   "cell_type": "code",
   "execution_count": 12,
   "id": "0f9e1ff3-c70c-46b7-ab07-3c994cac38d1",
   "metadata": {},
   "outputs": [
    {
     "name": "stdout",
     "output_type": "stream",
     "text": [
      " the importance of feature 'Brand' is 3.75%.\n",
      " the importance of feature 'Unit' is 0.92%.\n",
      " the importance of feature 'Job_type' is 3.76%.\n",
      " the importance of feature 'Subject' is 5.66%.\n",
      " the importance of feature 'Language_Pair' is 13.05%.\n",
      " the importance of feature 'Start_TimeStamp' is 10.29%.\n",
      " the importance of feature 'Price' is 14.1%.\n",
      " the importance of feature 'Deivery_TimeStamp' is 10.05%.\n",
      " the importance of feature 'amount' is 10.87%.\n",
      " the importance of feature 'Duration' is 9.01%.\n",
      " the importance of feature 'PM' is 5.33%.\n",
      " the importance of feature 'Account' is 13.21%.\n"
     ]
    }
   ],
   "source": [
    "importances = rf_model.feature_importances_\n",
    "columns = X.columns\n",
    "i = 0\n",
    "\n",
    "while i < len(columns):\n",
    "    print (f\" the importance of feature '{columns[i]}' is {round(importances[i]*100, 2)}%.\")\n",
    "    i+=1"
   ]
  },
  {
   "cell_type": "code",
   "execution_count": 13,
   "id": "a6e177b4-e601-4353-b3a0-d6da90edb056",
   "metadata": {
    "tags": []
   },
   "outputs": [
    {
     "data": {
      "text/html": [
       "<div>\n",
       "<style scoped>\n",
       "    .dataframe tbody tr th:only-of-type {\n",
       "        vertical-align: middle;\n",
       "    }\n",
       "\n",
       "    .dataframe tbody tr th {\n",
       "        vertical-align: top;\n",
       "    }\n",
       "\n",
       "    .dataframe thead th {\n",
       "        text-align: right;\n",
       "    }\n",
       "</style>\n",
       "<table border=\"1\" class=\"dataframe\">\n",
       "  <thead>\n",
       "    <tr style=\"text-align: right;\">\n",
       "      <th></th>\n",
       "      <th>Low</th>\n",
       "      <th>Normal</th>\n",
       "      <th>High</th>\n",
       "      <th>y_pred</th>\n",
       "      <th>y_test</th>\n",
       "    </tr>\n",
       "  </thead>\n",
       "  <tbody>\n",
       "    <tr>\n",
       "      <th>0</th>\n",
       "      <td>0.01</td>\n",
       "      <td>0.12</td>\n",
       "      <td>0.87</td>\n",
       "      <td>2</td>\n",
       "      <td>2</td>\n",
       "    </tr>\n",
       "    <tr>\n",
       "      <th>1</th>\n",
       "      <td>0.02</td>\n",
       "      <td>0.07</td>\n",
       "      <td>0.91</td>\n",
       "      <td>2</td>\n",
       "      <td>2</td>\n",
       "    </tr>\n",
       "    <tr>\n",
       "      <th>2</th>\n",
       "      <td>0.67</td>\n",
       "      <td>0.33</td>\n",
       "      <td>0.00</td>\n",
       "      <td>0</td>\n",
       "      <td>0</td>\n",
       "    </tr>\n",
       "    <tr>\n",
       "      <th>3</th>\n",
       "      <td>0.01</td>\n",
       "      <td>0.98</td>\n",
       "      <td>0.01</td>\n",
       "      <td>1</td>\n",
       "      <td>1</td>\n",
       "    </tr>\n",
       "    <tr>\n",
       "      <th>4</th>\n",
       "      <td>0.29</td>\n",
       "      <td>0.56</td>\n",
       "      <td>0.15</td>\n",
       "      <td>1</td>\n",
       "      <td>1</td>\n",
       "    </tr>\n",
       "    <tr>\n",
       "      <th>...</th>\n",
       "      <td>...</td>\n",
       "      <td>...</td>\n",
       "      <td>...</td>\n",
       "      <td>...</td>\n",
       "      <td>...</td>\n",
       "    </tr>\n",
       "    <tr>\n",
       "      <th>63472</th>\n",
       "      <td>0.04</td>\n",
       "      <td>0.12</td>\n",
       "      <td>0.84</td>\n",
       "      <td>2</td>\n",
       "      <td>1</td>\n",
       "    </tr>\n",
       "    <tr>\n",
       "      <th>63473</th>\n",
       "      <td>0.12</td>\n",
       "      <td>0.33</td>\n",
       "      <td>0.55</td>\n",
       "      <td>2</td>\n",
       "      <td>2</td>\n",
       "    </tr>\n",
       "    <tr>\n",
       "      <th>63474</th>\n",
       "      <td>0.01</td>\n",
       "      <td>0.07</td>\n",
       "      <td>0.92</td>\n",
       "      <td>2</td>\n",
       "      <td>1</td>\n",
       "    </tr>\n",
       "    <tr>\n",
       "      <th>63475</th>\n",
       "      <td>0.02</td>\n",
       "      <td>0.43</td>\n",
       "      <td>0.55</td>\n",
       "      <td>2</td>\n",
       "      <td>2</td>\n",
       "    </tr>\n",
       "    <tr>\n",
       "      <th>63476</th>\n",
       "      <td>0.14</td>\n",
       "      <td>0.37</td>\n",
       "      <td>0.49</td>\n",
       "      <td>2</td>\n",
       "      <td>1</td>\n",
       "    </tr>\n",
       "  </tbody>\n",
       "</table>\n",
       "<p>63477 rows × 5 columns</p>\n",
       "</div>"
      ],
      "text/plain": [
       "        Low  Normal  High  y_pred  y_test\n",
       "0      0.01    0.12  0.87       2       2\n",
       "1      0.02    0.07  0.91       2       2\n",
       "2      0.67    0.33  0.00       0       0\n",
       "3      0.01    0.98  0.01       1       1\n",
       "4      0.29    0.56  0.15       1       1\n",
       "...     ...     ...   ...     ...     ...\n",
       "63472  0.04    0.12  0.84       2       1\n",
       "63473  0.12    0.33  0.55       2       2\n",
       "63474  0.01    0.07  0.92       2       1\n",
       "63475  0.02    0.43  0.55       2       2\n",
       "63476  0.14    0.37  0.49       2       1\n",
       "\n",
       "[63477 rows x 5 columns]"
      ]
     },
     "execution_count": 13,
     "metadata": {},
     "output_type": "execute_result"
    }
   ],
   "source": [
    "dfn1 = pd.DataFrame(prob, columns=[\"Low\", \"Normal\", \"High\"])\n",
    "dfn1['y_pred'] = y_pred\n",
    "dfn1['y_test'] = y_test\n",
    "\n",
    "dfn1"
   ]
  },
  {
   "cell_type": "code",
   "execution_count": 14,
   "id": "a1917a4a-0213-44cb-b57e-6203fc8b1570",
   "metadata": {},
   "outputs": [
    {
     "data": {
      "text/html": [
       "<div>\n",
       "<style scoped>\n",
       "    .dataframe tbody tr th:only-of-type {\n",
       "        vertical-align: middle;\n",
       "    }\n",
       "\n",
       "    .dataframe tbody tr th {\n",
       "        vertical-align: top;\n",
       "    }\n",
       "\n",
       "    .dataframe thead th {\n",
       "        text-align: right;\n",
       "    }\n",
       "</style>\n",
       "<table border=\"1\" class=\"dataframe\">\n",
       "  <thead>\n",
       "    <tr style=\"text-align: right;\">\n",
       "      <th></th>\n",
       "      <th>Low</th>\n",
       "      <th>Normal</th>\n",
       "      <th>High</th>\n",
       "      <th>y_pred</th>\n",
       "      <th>y_test</th>\n",
       "      <th>25_pred</th>\n",
       "    </tr>\n",
       "  </thead>\n",
       "  <tbody>\n",
       "    <tr>\n",
       "      <th>0</th>\n",
       "      <td>0.01</td>\n",
       "      <td>0.12</td>\n",
       "      <td>0.87</td>\n",
       "      <td>2</td>\n",
       "      <td>2</td>\n",
       "      <td>2</td>\n",
       "    </tr>\n",
       "    <tr>\n",
       "      <th>1</th>\n",
       "      <td>0.02</td>\n",
       "      <td>0.07</td>\n",
       "      <td>0.91</td>\n",
       "      <td>2</td>\n",
       "      <td>2</td>\n",
       "      <td>2</td>\n",
       "    </tr>\n",
       "    <tr>\n",
       "      <th>2</th>\n",
       "      <td>0.67</td>\n",
       "      <td>0.33</td>\n",
       "      <td>0.00</td>\n",
       "      <td>0</td>\n",
       "      <td>0</td>\n",
       "      <td>0</td>\n",
       "    </tr>\n",
       "    <tr>\n",
       "      <th>3</th>\n",
       "      <td>0.01</td>\n",
       "      <td>0.98</td>\n",
       "      <td>0.01</td>\n",
       "      <td>1</td>\n",
       "      <td>1</td>\n",
       "      <td>1</td>\n",
       "    </tr>\n",
       "    <tr>\n",
       "      <th>4</th>\n",
       "      <td>0.29</td>\n",
       "      <td>0.56</td>\n",
       "      <td>0.15</td>\n",
       "      <td>1</td>\n",
       "      <td>1</td>\n",
       "      <td>0</td>\n",
       "    </tr>\n",
       "    <tr>\n",
       "      <th>...</th>\n",
       "      <td>...</td>\n",
       "      <td>...</td>\n",
       "      <td>...</td>\n",
       "      <td>...</td>\n",
       "      <td>...</td>\n",
       "      <td>...</td>\n",
       "    </tr>\n",
       "    <tr>\n",
       "      <th>63472</th>\n",
       "      <td>0.04</td>\n",
       "      <td>0.12</td>\n",
       "      <td>0.84</td>\n",
       "      <td>2</td>\n",
       "      <td>1</td>\n",
       "      <td>2</td>\n",
       "    </tr>\n",
       "    <tr>\n",
       "      <th>63473</th>\n",
       "      <td>0.12</td>\n",
       "      <td>0.33</td>\n",
       "      <td>0.55</td>\n",
       "      <td>2</td>\n",
       "      <td>2</td>\n",
       "      <td>2</td>\n",
       "    </tr>\n",
       "    <tr>\n",
       "      <th>63474</th>\n",
       "      <td>0.01</td>\n",
       "      <td>0.07</td>\n",
       "      <td>0.92</td>\n",
       "      <td>2</td>\n",
       "      <td>1</td>\n",
       "      <td>2</td>\n",
       "    </tr>\n",
       "    <tr>\n",
       "      <th>63475</th>\n",
       "      <td>0.02</td>\n",
       "      <td>0.43</td>\n",
       "      <td>0.55</td>\n",
       "      <td>2</td>\n",
       "      <td>2</td>\n",
       "      <td>2</td>\n",
       "    </tr>\n",
       "    <tr>\n",
       "      <th>63476</th>\n",
       "      <td>0.14</td>\n",
       "      <td>0.37</td>\n",
       "      <td>0.49</td>\n",
       "      <td>2</td>\n",
       "      <td>1</td>\n",
       "      <td>2</td>\n",
       "    </tr>\n",
       "  </tbody>\n",
       "</table>\n",
       "<p>63477 rows × 6 columns</p>\n",
       "</div>"
      ],
      "text/plain": [
       "        Low  Normal  High  y_pred  y_test  25_pred\n",
       "0      0.01    0.12  0.87       2       2        2\n",
       "1      0.02    0.07  0.91       2       2        2\n",
       "2      0.67    0.33  0.00       0       0        0\n",
       "3      0.01    0.98  0.01       1       1        1\n",
       "4      0.29    0.56  0.15       1       1        0\n",
       "...     ...     ...   ...     ...     ...      ...\n",
       "63472  0.04    0.12  0.84       2       1        2\n",
       "63473  0.12    0.33  0.55       2       2        2\n",
       "63474  0.01    0.07  0.92       2       1        2\n",
       "63475  0.02    0.43  0.55       2       2        2\n",
       "63476  0.14    0.37  0.49       2       1        2\n",
       "\n",
       "[63477 rows x 6 columns]"
      ]
     },
     "execution_count": 14,
     "metadata": {},
     "output_type": "execute_result"
    }
   ],
   "source": [
    "dfn1['25_pred'] = np.where((dfn1['Low'] >= 0.25) , 0, dfn1['y_pred'])\n",
    "\n",
    "dfn1"
   ]
  },
  {
   "cell_type": "code",
   "execution_count": 15,
   "id": "ea3607f9-d186-4391-ad5a-85803b686781",
   "metadata": {
    "tags": []
   },
   "outputs": [],
   "source": [
    "dfn1.to_excel(\"C://Users//ahmed.saeed//Desktop//Job_Risk//Job_Risk//Profitability//RF_Profitability.xlsx\", header=True)"
   ]
  },
  {
   "cell_type": "code",
   "execution_count": 16,
   "id": "72a2136d-20fb-422c-af3c-df6d02fd2f3d",
   "metadata": {},
   "outputs": [
    {
     "name": "stdout",
     "output_type": "stream",
     "text": [
      "              precision    recall  f1-score   support\n",
      "\n",
      "           0       0.74      0.61      0.67      8382\n",
      "           1       0.80      0.85      0.82     33417\n",
      "           2       0.80      0.78      0.79     21678\n",
      "\n",
      "    accuracy                           0.79     63477\n",
      "   macro avg       0.78      0.75      0.76     63477\n",
      "weighted avg       0.79      0.79      0.79     63477\n",
      "\n"
     ]
    },
    {
     "data": {
      "image/png": "[encoded data removed]",
      "text/plain": [
       "<Figure size 640x480 with 2 Axes>"
      ]
     },
     "metadata": {},
     "output_type": "display_data"
    }
   ],
   "source": [
    "from sklearn.metrics import classification_report, confusion_matrix\n",
    "cm25 = confusion_matrix(y_test, dfn1['25_pred'])\n",
    "sns.heatmap(cm25, annot=True, fmt='d').set_title('25 confusion matrix')\n",
    "\n",
    "print(classification_report(y_test,y_pred))\n",
    "#Vertical (actual), horizontal (prediction)"
   ]
  },
  {
   "cell_type": "code",
   "execution_count": 17,
   "id": "b42eaf11-5ec5-4536-b9f3-3247141d686f",
   "metadata": {},
   "outputs": [
    {
     "name": "stdout",
     "output_type": "stream",
     "text": [
      "Low : 77.63063707945598 \n",
      "Normal: 79.11242780620643 \n",
      "High: 76.63068548759111\n"
     ]
    }
   ],
   "source": [
    "# Categories Accuracy\n",
    "a,b,c = (cm25.diagonal()/cm25.sum(axis=1))*100\n",
    "print (\"Low :\", a,\n",
    "       \"\\nNormal:\", b,\n",
    "       \"\\nHigh:\", c)"
   ]
  },
  {
   "cell_type": "code",
   "execution_count": 18,
   "id": "7348211d-fccb-4310-b583-8ae0a49a5253",
   "metadata": {},
   "outputs": [],
   "source": [
    "# final Prediction (low @ 25%)"
   ]
  }
 ],
 "metadata": {
  "kernelspec": {
   "display_name": "Python 3 (ipykernel)",
   "language": "python",
   "name": "python3"
  },
  "language_info": {
   "codemirror_mode": {
    "name": "ipython",
    "version": 3
   },
   "file_extension": ".py",
   "mimetype": "text/x-python",
   "name": "python",
   "nbconvert_exporter": "python",
   "pygments_lexer": "ipython3",
   "version": "3.9.13"
  }
 },
 "nbformat": 4,
 "nbformat_minor": 5
}
