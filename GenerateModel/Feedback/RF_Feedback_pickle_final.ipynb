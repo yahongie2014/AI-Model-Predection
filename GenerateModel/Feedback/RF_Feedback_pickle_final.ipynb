{
 "cells": [
  {
   "cell_type": "markdown",
   "id": "28dc55b8-dfec-4b2d-a6a1-9bbfbd5b4890",
   "metadata": {
    "tags": []
   },
   "source": [
    "<a id='wrang'></a>\n",
    "# 1. Data Wrangling"
   ]
  },
  {
   "cell_type": "code",
   "execution_count": 1,
   "id": "1517dedf-4732-420b-8bdd-c72cfca10588",
   "metadata": {
    "tags": []
   },
   "outputs": [],
   "source": [
    "from sklearn.datasets import make_classification\n",
    "from sklearn import linear_model\n",
    "from sklearn import preprocessing\n",
    "from sklearn.linear_model import LogisticRegression\n",
    "from sklearn.model_selection import train_test_split\n",
    "from sklearn.ensemble import RandomForestClassifier\n",
    "from sklearn.metrics import classification_report, confusion_matrix\n",
    "from sklearn.metrics.pairwise import _euclidean_distances\n",
    "from imblearn.over_sampling import SMOTE\n",
    "import matplotlib.pyplot as plt\n",
    "import seaborn  as sns\n",
    "import pandas as pd\n",
    "import numpy as np\n",
    "import scipy\n",
    "import scipy.stats as stats\n",
    "import statsmodels.api as sm\n",
    "import pickle\n",
    "\n",
    "%matplotlib inline\n",
    "plt.rc(\"font\", size=14)\n",
    "sns.set(style=\"white\")\n",
    "sns.set(style=\"whitegrid\", color_codes=True)"
   ]
  },
  {
   "cell_type": "code",
   "execution_count": 2,
   "id": "0d98e5e4-479c-4cb8-8e35-3a3074c339ff",
   "metadata": {},
   "outputs": [],
   "source": [
    "pd.set_option('display.max_rows', 500)\n",
    "pd.set_option('display.max_columns', 500)"
   ]
  },
  {
   "cell_type": "code",
   "execution_count": 3,
   "id": "4c849998-7d93-4a1c-a163-a7532147b184",
   "metadata": {},
   "outputs": [
    {
     "data": {
      "text/html": [
       "<div>\n",
       "<style scoped>\n",
       "    .dataframe tbody tr th:only-of-type {\n",
       "        vertical-align: middle;\n",
       "    }\n",
       "\n",
       "    .dataframe tbody tr th {\n",
       "        vertical-align: top;\n",
       "    }\n",
       "\n",
       "    .dataframe thead th {\n",
       "        text-align: right;\n",
       "    }\n",
       "</style>\n",
       "<table border=\"1\" class=\"dataframe\">\n",
       "  <thead>\n",
       "    <tr style=\"text-align: right;\">\n",
       "      <th></th>\n",
       "      <th>Unnamed: 0</th>\n",
       "      <th>Brand</th>\n",
       "      <th>Unit</th>\n",
       "      <th>Job_type</th>\n",
       "      <th>Subject</th>\n",
       "      <th>Delay</th>\n",
       "      <th>Language_Pair</th>\n",
       "      <th>Start_TimeStamp</th>\n",
       "      <th>Price</th>\n",
       "      <th>Deivery_TimeStamp</th>\n",
       "      <th>amount</th>\n",
       "      <th>Duration</th>\n",
       "      <th>PM</th>\n",
       "      <th>Account</th>\n",
       "      <th>feedback</th>\n",
       "      <th>profitability</th>\n",
       "    </tr>\n",
       "  </thead>\n",
       "  <tbody>\n",
       "    <tr>\n",
       "      <th>0</th>\n",
       "      <td>0</td>\n",
       "      <td>13</td>\n",
       "      <td>4</td>\n",
       "      <td>12</td>\n",
       "      <td>22</td>\n",
       "      <td>0</td>\n",
       "      <td>274</td>\n",
       "      <td>1182.42</td>\n",
       "      <td>0.00</td>\n",
       "      <td>1182.67</td>\n",
       "      <td>2.50</td>\n",
       "      <td>0.25</td>\n",
       "      <td>34</td>\n",
       "      <td>8089</td>\n",
       "      <td>0</td>\n",
       "      <td>0</td>\n",
       "    </tr>\n",
       "    <tr>\n",
       "      <th>1</th>\n",
       "      <td>1</td>\n",
       "      <td>0</td>\n",
       "      <td>4</td>\n",
       "      <td>12</td>\n",
       "      <td>22</td>\n",
       "      <td>0</td>\n",
       "      <td>710</td>\n",
       "      <td>1182.39</td>\n",
       "      <td>0.00</td>\n",
       "      <td>1182.50</td>\n",
       "      <td>0.25</td>\n",
       "      <td>0.11</td>\n",
       "      <td>166</td>\n",
       "      <td>5301</td>\n",
       "      <td>1</td>\n",
       "      <td>0</td>\n",
       "    </tr>\n",
       "    <tr>\n",
       "      <th>2</th>\n",
       "      <td>2</td>\n",
       "      <td>13</td>\n",
       "      <td>10</td>\n",
       "      <td>24</td>\n",
       "      <td>22</td>\n",
       "      <td>0</td>\n",
       "      <td>44</td>\n",
       "      <td>1182.38</td>\n",
       "      <td>30.57</td>\n",
       "      <td>1182.51</td>\n",
       "      <td>401.00</td>\n",
       "      <td>0.13</td>\n",
       "      <td>114</td>\n",
       "      <td>673</td>\n",
       "      <td>0</td>\n",
       "      <td>2</td>\n",
       "    </tr>\n",
       "    <tr>\n",
       "      <th>3</th>\n",
       "      <td>3</td>\n",
       "      <td>6</td>\n",
       "      <td>10</td>\n",
       "      <td>22</td>\n",
       "      <td>32</td>\n",
       "      <td>0</td>\n",
       "      <td>452</td>\n",
       "      <td>1182.36</td>\n",
       "      <td>0.46</td>\n",
       "      <td>1182.46</td>\n",
       "      <td>7.00</td>\n",
       "      <td>0.10</td>\n",
       "      <td>164</td>\n",
       "      <td>4448</td>\n",
       "      <td>0</td>\n",
       "      <td>2</td>\n",
       "    </tr>\n",
       "    <tr>\n",
       "      <th>4</th>\n",
       "      <td>4</td>\n",
       "      <td>13</td>\n",
       "      <td>10</td>\n",
       "      <td>24</td>\n",
       "      <td>22</td>\n",
       "      <td>1</td>\n",
       "      <td>44</td>\n",
       "      <td>1182.34</td>\n",
       "      <td>7.47</td>\n",
       "      <td>1182.36</td>\n",
       "      <td>98.00</td>\n",
       "      <td>0.02</td>\n",
       "      <td>114</td>\n",
       "      <td>673</td>\n",
       "      <td>0</td>\n",
       "      <td>2</td>\n",
       "    </tr>\n",
       "    <tr>\n",
       "      <th>...</th>\n",
       "      <td>...</td>\n",
       "      <td>...</td>\n",
       "      <td>...</td>\n",
       "      <td>...</td>\n",
       "      <td>...</td>\n",
       "      <td>...</td>\n",
       "      <td>...</td>\n",
       "      <td>...</td>\n",
       "      <td>...</td>\n",
       "      <td>...</td>\n",
       "      <td>...</td>\n",
       "      <td>...</td>\n",
       "      <td>...</td>\n",
       "      <td>...</td>\n",
       "      <td>...</td>\n",
       "      <td>...</td>\n",
       "    </tr>\n",
       "    <tr>\n",
       "      <th>317378</th>\n",
       "      <td>327338</td>\n",
       "      <td>8</td>\n",
       "      <td>10</td>\n",
       "      <td>25</td>\n",
       "      <td>22</td>\n",
       "      <td>0</td>\n",
       "      <td>624</td>\n",
       "      <td>-113.46</td>\n",
       "      <td>7.40</td>\n",
       "      <td>1.67</td>\n",
       "      <td>123.33</td>\n",
       "      <td>115.13</td>\n",
       "      <td>63</td>\n",
       "      <td>7846</td>\n",
       "      <td>0</td>\n",
       "      <td>2</td>\n",
       "    </tr>\n",
       "    <tr>\n",
       "      <th>317379</th>\n",
       "      <td>327339</td>\n",
       "      <td>11</td>\n",
       "      <td>4</td>\n",
       "      <td>12</td>\n",
       "      <td>52</td>\n",
       "      <td>1</td>\n",
       "      <td>274</td>\n",
       "      <td>-237.54</td>\n",
       "      <td>30.00</td>\n",
       "      <td>-237.33</td>\n",
       "      <td>1.00</td>\n",
       "      <td>0.21</td>\n",
       "      <td>10</td>\n",
       "      <td>5445</td>\n",
       "      <td>0</td>\n",
       "      <td>2</td>\n",
       "    </tr>\n",
       "    <tr>\n",
       "      <th>317380</th>\n",
       "      <td>327340</td>\n",
       "      <td>11</td>\n",
       "      <td>4</td>\n",
       "      <td>23</td>\n",
       "      <td>22</td>\n",
       "      <td>1</td>\n",
       "      <td>298</td>\n",
       "      <td>-313.71</td>\n",
       "      <td>22.00</td>\n",
       "      <td>-313.33</td>\n",
       "      <td>1.00</td>\n",
       "      <td>0.38</td>\n",
       "      <td>10</td>\n",
       "      <td>5809</td>\n",
       "      <td>0</td>\n",
       "      <td>2</td>\n",
       "    </tr>\n",
       "    <tr>\n",
       "      <th>317381</th>\n",
       "      <td>327341</td>\n",
       "      <td>6</td>\n",
       "      <td>4</td>\n",
       "      <td>12</td>\n",
       "      <td>22</td>\n",
       "      <td>1</td>\n",
       "      <td>650</td>\n",
       "      <td>-452.71</td>\n",
       "      <td>94.12</td>\n",
       "      <td>-452.33</td>\n",
       "      <td>2.27</td>\n",
       "      <td>0.38</td>\n",
       "      <td>5</td>\n",
       "      <td>5234</td>\n",
       "      <td>0</td>\n",
       "      <td>2</td>\n",
       "    </tr>\n",
       "    <tr>\n",
       "      <th>317382</th>\n",
       "      <td>327342</td>\n",
       "      <td>6</td>\n",
       "      <td>4</td>\n",
       "      <td>12</td>\n",
       "      <td>39</td>\n",
       "      <td>1</td>\n",
       "      <td>438</td>\n",
       "      <td>-608.75</td>\n",
       "      <td>30.00</td>\n",
       "      <td>-608.33</td>\n",
       "      <td>1.00</td>\n",
       "      <td>0.42</td>\n",
       "      <td>5</td>\n",
       "      <td>1418</td>\n",
       "      <td>0</td>\n",
       "      <td>2</td>\n",
       "    </tr>\n",
       "  </tbody>\n",
       "</table>\n",
       "<p>317383 rows × 16 columns</p>\n",
       "</div>"
      ],
      "text/plain": [
       "        Unnamed: 0  Brand  Unit  Job_type  Subject  Delay  Language_Pair  \\\n",
       "0                0     13     4        12       22      0            274   \n",
       "1                1      0     4        12       22      0            710   \n",
       "2                2     13    10        24       22      0             44   \n",
       "3                3      6    10        22       32      0            452   \n",
       "4                4     13    10        24       22      1             44   \n",
       "...            ...    ...   ...       ...      ...    ...            ...   \n",
       "317378      327338      8    10        25       22      0            624   \n",
       "317379      327339     11     4        12       52      1            274   \n",
       "317380      327340     11     4        23       22      1            298   \n",
       "317381      327341      6     4        12       22      1            650   \n",
       "317382      327342      6     4        12       39      1            438   \n",
       "\n",
       "        Start_TimeStamp  Price  Deivery_TimeStamp  amount  Duration   PM  \\\n",
       "0               1182.42   0.00            1182.67    2.50      0.25   34   \n",
       "1               1182.39   0.00            1182.50    0.25      0.11  166   \n",
       "2               1182.38  30.57            1182.51  401.00      0.13  114   \n",
       "3               1182.36   0.46            1182.46    7.00      0.10  164   \n",
       "4               1182.34   7.47            1182.36   98.00      0.02  114   \n",
       "...                 ...    ...                ...     ...       ...  ...   \n",
       "317378          -113.46   7.40               1.67  123.33    115.13   63   \n",
       "317379          -237.54  30.00            -237.33    1.00      0.21   10   \n",
       "317380          -313.71  22.00            -313.33    1.00      0.38   10   \n",
       "317381          -452.71  94.12            -452.33    2.27      0.38    5   \n",
       "317382          -608.75  30.00            -608.33    1.00      0.42    5   \n",
       "\n",
       "        Account  feedback  profitability  \n",
       "0          8089         0              0  \n",
       "1          5301         1              0  \n",
       "2           673         0              2  \n",
       "3          4448         0              2  \n",
       "4           673         0              2  \n",
       "...         ...       ...            ...  \n",
       "317378     7846         0              2  \n",
       "317379     5445         0              2  \n",
       "317380     5809         0              2  \n",
       "317381     5234         0              2  \n",
       "317382     1418         0              2  \n",
       "\n",
       "[317383 rows x 16 columns]"
      ]
     },
     "execution_count": 3,
     "metadata": {},
     "output_type": "execute_result"
    }
   ],
   "source": [
    "#importing raw data\n",
    "df2= pd.read_csv(\"C://Users//ahmed.saeed//Desktop//Job_Risk//Job_Risk//Delay//df2_JOB_RISK2.csv\", sep=',', low_memory=False)\n",
    "df2"
   ]
  },
  {
   "cell_type": "code",
   "execution_count": 4,
   "id": "d1fafd00-2c62-4fab-82fa-16050a4092b2",
   "metadata": {},
   "outputs": [
    {
     "name": "stderr",
     "output_type": "stream",
     "text": [
      "C:\\Users\\ahmed.saeed\\Anaconda3\\lib\\site-packages\\sklearn\\base.py:329: UserWarning: Trying to unpickle estimator DecisionTreeClassifier from version 1.2.1 when using version 1.0.2. This might lead to breaking code or invalid results. Use at your own risk. For more info please refer to:\n",
      "https://scikit-learn.org/stable/modules/model_persistence.html#security-maintainability-limitations\n",
      "  warnings.warn(\n",
      "C:\\Users\\ahmed.saeed\\Anaconda3\\lib\\site-packages\\sklearn\\base.py:329: UserWarning: Trying to unpickle estimator RandomForestClassifier from version 1.2.1 when using version 1.0.2. This might lead to breaking code or invalid results. Use at your own risk. For more info please refer to:\n",
      "https://scikit-learn.org/stable/modules/model_persistence.html#security-maintainability-limitations\n",
      "  warnings.warn(\n"
     ]
    }
   ],
   "source": [
    "filename = 'C://Users//ahmed.saeed//Desktop//Job_Risk//Job_Risk//Feedback//rf_model_fitted_Feedback.sav'\n",
    "rf_model = pickle.load(open(filename, 'rb'))\n"
   ]
  },
  {
   "cell_type": "code",
   "execution_count": 5,
   "id": "ff348617-d06a-4ddf-b9bc-d967c6628c84",
   "metadata": {},
   "outputs": [],
   "source": [
    "# Introduing features and label\n",
    "X = df2[['Brand', 'Unit', 'Job_type','Subject', 'Delay','Language_Pair','Start_TimeStamp',\n",
    "         'Price','Deivery_TimeStamp','amount','Duration', 'PM', 'Account']]\n",
    "y = np.array(df2[\"feedback\"]).astype(int)\n",
    "X_train, X_test, y_train, y_test = train_test_split(X, y, test_size=0.2, random_state=44)\n"
   ]
  },
  {
   "cell_type": "markdown",
   "id": "ff39f83d-d27e-4ec5-b2fc-9bac50f1982b",
   "metadata": {},
   "source": [
    "# Step 3. – Making predictions with our model"
   ]
  },
  {
   "cell_type": "code",
   "execution_count": 6,
   "id": "e1e62418-431b-4514-b1f4-eb87cc61cf20",
   "metadata": {},
   "outputs": [
    {
     "data": {
      "text/plain": [
       "array([0, 0, 0, ..., 1, 0, 0])"
      ]
     },
     "execution_count": 6,
     "metadata": {},
     "output_type": "execute_result"
    }
   ],
   "source": [
    "y_pred = rf_model.predict(X_test)\n",
    "y_pred"
   ]
  },
  {
   "cell_type": "code",
   "execution_count": 7,
   "id": "6caf7568-525c-4b7e-bb6d-5034a744a10e",
   "metadata": {},
   "outputs": [
    {
     "data": {
      "text/plain": [
       "array([0, 0, 0, ..., 1, 0, 0])"
      ]
     },
     "execution_count": 7,
     "metadata": {},
     "output_type": "execute_result"
    }
   ],
   "source": [
    "y_test"
   ]
  },
  {
   "cell_type": "code",
   "execution_count": 8,
   "id": "ef38af4d-5e25-4a15-9179-27fb027ac1ff",
   "metadata": {},
   "outputs": [
    {
     "data": {
      "text/plain": [
       "array([[1.  , 0.  ],\n",
       "       [0.99, 0.01],\n",
       "       [1.  , 0.  ],\n",
       "       ...,\n",
       "       [0.35, 0.65],\n",
       "       [1.  , 0.  ],\n",
       "       [0.91, 0.09]])"
      ]
     },
     "execution_count": 8,
     "metadata": {},
     "output_type": "execute_result"
    }
   ],
   "source": [
    "prob = rf_model.predict_proba(X_test)\n",
    "prob"
   ]
  },
  {
   "cell_type": "code",
   "execution_count": 9,
   "id": "42a1e979-58b0-48dd-a24c-487d72767274",
   "metadata": {},
   "outputs": [
    {
     "data": {
      "text/plain": [
       "array([0, 1])"
      ]
     },
     "execution_count": 9,
     "metadata": {},
     "output_type": "execute_result"
    }
   ],
   "source": [
    "rf_model.classes_"
   ]
  },
  {
   "cell_type": "code",
   "execution_count": 10,
   "id": "16b4fd7e-3185-4a80-87e2-6642db882f27",
   "metadata": {},
   "outputs": [
    {
     "name": "stdout",
     "output_type": "stream",
     "text": [
      "              precision    recall  f1-score   support\n",
      "\n",
      "           0       0.98      0.99      0.99     60377\n",
      "           1       0.83      0.54      0.66      3100\n",
      "\n",
      "    accuracy                           0.97     63477\n",
      "   macro avg       0.90      0.77      0.82     63477\n",
      "weighted avg       0.97      0.97      0.97     63477\n",
      "\n"
     ]
    },
    {
     "data": {
      "image/png": "[encoded data removed]",
      "text/plain": [
       "<Figure size 640x480 with 2 Axes>"
      ]
     },
     "metadata": {},
     "output_type": "display_data"
    }
   ],
   "source": [
    "from sklearn.metrics import classification_report, confusion_matrix\n",
    "cm = confusion_matrix(y_test, y_pred)\n",
    "sns.heatmap(cm, annot=True, fmt='d').set_title('risks confusion matrix')\n",
    "\n",
    "print(classification_report(y_test,y_pred))\n",
    "#Vertical (actual), horizontal (prediction)"
   ]
  },
  {
   "cell_type": "code",
   "execution_count": 11,
   "id": "9d77554a-5df9-4564-a1c3-83e99c5fe07b",
   "metadata": {},
   "outputs": [
    {
     "name": "stdout",
     "output_type": "stream",
     "text": [
      " the importance of feature 'Brand' is 5.85%.\n",
      " the importance of feature 'Unit' is 1.61%.\n",
      " the importance of feature 'Job_type' is 3.51%.\n",
      " the importance of feature 'Subject' is 6.05%.\n",
      " the importance of feature 'Delay' is 6.56%.\n",
      " the importance of feature 'Language_Pair' is 5.99%.\n",
      " the importance of feature 'Start_TimeStamp' is 9.39%.\n",
      " the importance of feature 'Price' is 12.97%.\n",
      " the importance of feature 'Deivery_TimeStamp' is 9.49%.\n",
      " the importance of feature 'amount' is 9.72%.\n",
      " the importance of feature 'Duration' is 9.43%.\n",
      " the importance of feature 'PM' is 7.55%.\n",
      " the importance of feature 'Account' is 11.88%.\n"
     ]
    }
   ],
   "source": [
    "importances = rf_model.feature_importances_\n",
    "columns = X.columns\n",
    "i = 0\n",
    "\n",
    "while i < len(columns):\n",
    "    print (f\" the importance of feature '{columns[i]}' is {round(importances[i]*100, 2)}%.\")\n",
    "    i+=1"
   ]
  },
  {
   "cell_type": "code",
   "execution_count": 12,
   "id": "f1d923eb-d4a0-4b72-8efb-f0acaa101d4f",
   "metadata": {
    "tags": []
   },
   "outputs": [
    {
     "data": {
      "text/html": [
       "<div>\n",
       "<style scoped>\n",
       "    .dataframe tbody tr th:only-of-type {\n",
       "        vertical-align: middle;\n",
       "    }\n",
       "\n",
       "    .dataframe tbody tr th {\n",
       "        vertical-align: top;\n",
       "    }\n",
       "\n",
       "    .dataframe thead th {\n",
       "        text-align: right;\n",
       "    }\n",
       "</style>\n",
       "<table border=\"1\" class=\"dataframe\">\n",
       "  <thead>\n",
       "    <tr style=\"text-align: right;\">\n",
       "      <th></th>\n",
       "      <th>Positive</th>\n",
       "      <th>negative</th>\n",
       "      <th>y_pred</th>\n",
       "      <th>y_test</th>\n",
       "    </tr>\n",
       "  </thead>\n",
       "  <tbody>\n",
       "    <tr>\n",
       "      <th>0</th>\n",
       "      <td>1.00</td>\n",
       "      <td>0.00</td>\n",
       "      <td>0</td>\n",
       "      <td>0</td>\n",
       "    </tr>\n",
       "    <tr>\n",
       "      <th>1</th>\n",
       "      <td>0.99</td>\n",
       "      <td>0.01</td>\n",
       "      <td>0</td>\n",
       "      <td>0</td>\n",
       "    </tr>\n",
       "    <tr>\n",
       "      <th>2</th>\n",
       "      <td>1.00</td>\n",
       "      <td>0.00</td>\n",
       "      <td>0</td>\n",
       "      <td>0</td>\n",
       "    </tr>\n",
       "    <tr>\n",
       "      <th>3</th>\n",
       "      <td>1.00</td>\n",
       "      <td>0.00</td>\n",
       "      <td>0</td>\n",
       "      <td>0</td>\n",
       "    </tr>\n",
       "    <tr>\n",
       "      <th>4</th>\n",
       "      <td>0.59</td>\n",
       "      <td>0.41</td>\n",
       "      <td>0</td>\n",
       "      <td>0</td>\n",
       "    </tr>\n",
       "    <tr>\n",
       "      <th>...</th>\n",
       "      <td>...</td>\n",
       "      <td>...</td>\n",
       "      <td>...</td>\n",
       "      <td>...</td>\n",
       "    </tr>\n",
       "    <tr>\n",
       "      <th>63472</th>\n",
       "      <td>0.95</td>\n",
       "      <td>0.05</td>\n",
       "      <td>0</td>\n",
       "      <td>0</td>\n",
       "    </tr>\n",
       "    <tr>\n",
       "      <th>63473</th>\n",
       "      <td>1.00</td>\n",
       "      <td>0.00</td>\n",
       "      <td>0</td>\n",
       "      <td>0</td>\n",
       "    </tr>\n",
       "    <tr>\n",
       "      <th>63474</th>\n",
       "      <td>0.35</td>\n",
       "      <td>0.65</td>\n",
       "      <td>1</td>\n",
       "      <td>1</td>\n",
       "    </tr>\n",
       "    <tr>\n",
       "      <th>63475</th>\n",
       "      <td>1.00</td>\n",
       "      <td>0.00</td>\n",
       "      <td>0</td>\n",
       "      <td>0</td>\n",
       "    </tr>\n",
       "    <tr>\n",
       "      <th>63476</th>\n",
       "      <td>0.91</td>\n",
       "      <td>0.09</td>\n",
       "      <td>0</td>\n",
       "      <td>0</td>\n",
       "    </tr>\n",
       "  </tbody>\n",
       "</table>\n",
       "<p>63477 rows × 4 columns</p>\n",
       "</div>"
      ],
      "text/plain": [
       "       Positive  negative  y_pred  y_test\n",
       "0          1.00      0.00       0       0\n",
       "1          0.99      0.01       0       0\n",
       "2          1.00      0.00       0       0\n",
       "3          1.00      0.00       0       0\n",
       "4          0.59      0.41       0       0\n",
       "...         ...       ...     ...     ...\n",
       "63472      0.95      0.05       0       0\n",
       "63473      1.00      0.00       0       0\n",
       "63474      0.35      0.65       1       1\n",
       "63475      1.00      0.00       0       0\n",
       "63476      0.91      0.09       0       0\n",
       "\n",
       "[63477 rows x 4 columns]"
      ]
     },
     "execution_count": 12,
     "metadata": {},
     "output_type": "execute_result"
    }
   ],
   "source": [
    "dfn1 = pd.DataFrame(prob, columns=['Positive', 'negative'])\n",
    "dfn1['y_pred'] = y_pred\n",
    "dfn1['y_test'] = y_test\n",
    "\n",
    "dfn1"
   ]
  },
  {
   "cell_type": "code",
   "execution_count": 13,
   "id": "9e16d997-ceaa-4c72-afb5-f234694a2ae7",
   "metadata": {},
   "outputs": [
    {
     "data": {
      "text/html": [
       "<div>\n",
       "<style scoped>\n",
       "    .dataframe tbody tr th:only-of-type {\n",
       "        vertical-align: middle;\n",
       "    }\n",
       "\n",
       "    .dataframe tbody tr th {\n",
       "        vertical-align: top;\n",
       "    }\n",
       "\n",
       "    .dataframe thead th {\n",
       "        text-align: right;\n",
       "    }\n",
       "</style>\n",
       "<table border=\"1\" class=\"dataframe\">\n",
       "  <thead>\n",
       "    <tr style=\"text-align: right;\">\n",
       "      <th></th>\n",
       "      <th>Positive</th>\n",
       "      <th>negative</th>\n",
       "      <th>y_pred</th>\n",
       "      <th>y_test</th>\n",
       "      <th>9_pred</th>\n",
       "    </tr>\n",
       "  </thead>\n",
       "  <tbody>\n",
       "    <tr>\n",
       "      <th>0</th>\n",
       "      <td>1.00</td>\n",
       "      <td>0.00</td>\n",
       "      <td>0</td>\n",
       "      <td>0</td>\n",
       "      <td>0</td>\n",
       "    </tr>\n",
       "    <tr>\n",
       "      <th>1</th>\n",
       "      <td>0.99</td>\n",
       "      <td>0.01</td>\n",
       "      <td>0</td>\n",
       "      <td>0</td>\n",
       "      <td>0</td>\n",
       "    </tr>\n",
       "    <tr>\n",
       "      <th>2</th>\n",
       "      <td>1.00</td>\n",
       "      <td>0.00</td>\n",
       "      <td>0</td>\n",
       "      <td>0</td>\n",
       "      <td>0</td>\n",
       "    </tr>\n",
       "    <tr>\n",
       "      <th>3</th>\n",
       "      <td>1.00</td>\n",
       "      <td>0.00</td>\n",
       "      <td>0</td>\n",
       "      <td>0</td>\n",
       "      <td>0</td>\n",
       "    </tr>\n",
       "    <tr>\n",
       "      <th>4</th>\n",
       "      <td>0.59</td>\n",
       "      <td>0.41</td>\n",
       "      <td>0</td>\n",
       "      <td>0</td>\n",
       "      <td>1</td>\n",
       "    </tr>\n",
       "    <tr>\n",
       "      <th>...</th>\n",
       "      <td>...</td>\n",
       "      <td>...</td>\n",
       "      <td>...</td>\n",
       "      <td>...</td>\n",
       "      <td>...</td>\n",
       "    </tr>\n",
       "    <tr>\n",
       "      <th>63472</th>\n",
       "      <td>0.95</td>\n",
       "      <td>0.05</td>\n",
       "      <td>0</td>\n",
       "      <td>0</td>\n",
       "      <td>0</td>\n",
       "    </tr>\n",
       "    <tr>\n",
       "      <th>63473</th>\n",
       "      <td>1.00</td>\n",
       "      <td>0.00</td>\n",
       "      <td>0</td>\n",
       "      <td>0</td>\n",
       "      <td>0</td>\n",
       "    </tr>\n",
       "    <tr>\n",
       "      <th>63474</th>\n",
       "      <td>0.35</td>\n",
       "      <td>0.65</td>\n",
       "      <td>1</td>\n",
       "      <td>1</td>\n",
       "      <td>1</td>\n",
       "    </tr>\n",
       "    <tr>\n",
       "      <th>63475</th>\n",
       "      <td>1.00</td>\n",
       "      <td>0.00</td>\n",
       "      <td>0</td>\n",
       "      <td>0</td>\n",
       "      <td>0</td>\n",
       "    </tr>\n",
       "    <tr>\n",
       "      <th>63476</th>\n",
       "      <td>0.91</td>\n",
       "      <td>0.09</td>\n",
       "      <td>0</td>\n",
       "      <td>0</td>\n",
       "      <td>0</td>\n",
       "    </tr>\n",
       "  </tbody>\n",
       "</table>\n",
       "<p>63477 rows × 5 columns</p>\n",
       "</div>"
      ],
      "text/plain": [
       "       Positive  negative  y_pred  y_test  9_pred\n",
       "0          1.00      0.00       0       0       0\n",
       "1          0.99      0.01       0       0       0\n",
       "2          1.00      0.00       0       0       0\n",
       "3          1.00      0.00       0       0       0\n",
       "4          0.59      0.41       0       0       1\n",
       "...         ...       ...     ...     ...     ...\n",
       "63472      0.95      0.05       0       0       0\n",
       "63473      1.00      0.00       0       0       0\n",
       "63474      0.35      0.65       1       1       1\n",
       "63475      1.00      0.00       0       0       0\n",
       "63476      0.91      0.09       0       0       0\n",
       "\n",
       "[63477 rows x 5 columns]"
      ]
     },
     "execution_count": 13,
     "metadata": {},
     "output_type": "execute_result"
    }
   ],
   "source": [
    "dfn1['9_pred'] = np.where((dfn1['negative'] > 0.09) , 1, 0)\n",
    "\n",
    "dfn1"
   ]
  },
  {
   "cell_type": "code",
   "execution_count": 14,
   "id": "a3dc6e6f-cd1e-4d57-9e2a-b7bdcb4da2af",
   "metadata": {},
   "outputs": [],
   "source": [
    "dfn1.to_excel(\"C://Users//ahmed.saeed//Desktop//Job_Risk//Job_Risk//Profitability//RF_feedback.xlsx\", header=True)"
   ]
  },
  {
   "cell_type": "code",
   "execution_count": 15,
   "id": "c5175c94-88fe-4142-8438-913f436f98d0",
   "metadata": {},
   "outputs": [
    {
     "name": "stdout",
     "output_type": "stream",
     "text": [
      "              precision    recall  f1-score   support\n",
      "\n",
      "           0       0.98      0.99      0.99     60377\n",
      "           1       0.83      0.54      0.66      3100\n",
      "\n",
      "    accuracy                           0.97     63477\n",
      "   macro avg       0.90      0.77      0.82     63477\n",
      "weighted avg       0.97      0.97      0.97     63477\n",
      "\n"
     ]
    },
    {
     "data": {
      "image/png": "[encoded data removed]",
      "text/plain": [
       "<Figure size 640x480 with 2 Axes>"
      ]
     },
     "metadata": {},
     "output_type": "display_data"
    }
   ],
   "source": [
    "from sklearn.metrics import classification_report, confusion_matrix\n",
    "cm9 = confusion_matrix(y_test, dfn1['9_pred'])\n",
    "sns.heatmap(cm9, annot=True, fmt='d').set_title('9% confusion matrix')\n",
    "\n",
    "print(classification_report(y_test,y_pred))\n",
    "#Vertical (actual), horizontal (prediction)"
   ]
  },
  {
   "cell_type": "code",
   "execution_count": 16,
   "id": "4b0aca89-769a-4de5-b140-e90fa1019212",
   "metadata": {},
   "outputs": [
    {
     "name": "stdout",
     "output_type": "stream",
     "text": [
      "No Feedback 91 : 92.56836212465012 \n",
      "Feedback 9: 91.06451612903226\n"
     ]
    }
   ],
   "source": [
    "a,b = (cm9.diagonal()/cm9.sum(axis=1))*100\n",
    "print (\"No Feedback 91 :\", a,\n",
    "       \"\\nFeedback 9:\", b)"
   ]
  },
  {
   "cell_type": "code",
   "execution_count": 17,
   "id": "fc0c3222-db81-4431-9db8-805fc74e125f",
   "metadata": {},
   "outputs": [],
   "source": [
    "#final Prediction (Feedback @ 9%)"
   ]
  }
 ],
 "metadata": {
  "kernelspec": {
   "display_name": "Python 3 (ipykernel)",
   "language": "python",
   "name": "python3"
  },
  "language_info": {
   "codemirror_mode": {
    "name": "ipython",
    "version": 3
   },
   "file_extension": ".py",
   "mimetype": "text/x-python",
   "name": "python",
   "nbconvert_exporter": "python",
   "pygments_lexer": "ipython3",
   "version": "3.9.13"
  }
 },
 "nbformat": 4,
 "nbformat_minor": 5
}
