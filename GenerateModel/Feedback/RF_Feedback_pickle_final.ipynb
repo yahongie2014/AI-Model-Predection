{
 "cells": [
  {
   "cell_type": "markdown",
   "id": "28dc55b8-dfec-4b2d-a6a1-9bbfbd5b4890",
   "metadata": {
    "tags": []
   },
   "source": [
    "<a id='wrang'></a>\n",
    "# 1. Data Wrangling"
   ]
  },
  {
   "cell_type": "code",
   "execution_count": 1,
   "id": "1517dedf-4732-420b-8bdd-c72cfca10588",
   "metadata": {
    "tags": []
   },
   "source": [
    "from sklearn.datasets import make_classification\n",
    "from sklearn import linear_model\n",
    "from sklearn import preprocessing\n",
    "from sklearn.linear_model import LogisticRegression\n",
    "from sklearn.model_selection import train_test_split\n",
    "from sklearn.ensemble import RandomForestClassifier\n",
    "from sklearn.metrics import classification_report, confusion_matrix\n",
    "from sklearn.metrics.pairwise import _euclidean_distances\n",
    "from imblearn.over_sampling import SMOTE\n",
    "import matplotlib.pyplot as plt\n",
    "import seaborn  as sns\n",
    "import pandas as pd\n",
    "import numpy as np\n",
    "import scipy\n",
    "import scipy.stats as stats\n",
    "import statsmodels.api as sm\n",
    "import pickle\n",
    "\n",
    "%matplotlib inline\n",
    "plt.rc(\"font\", size=14)\n",
    "sns.set(style=\"white\")\n",
    "sns.set(style=\"whitegrid\", color_codes=True)"
   ],
   "outputs": []
  },
  {
   "cell_type": "code",
   "execution_count": 2,
   "id": "0d98e5e4-479c-4cb8-8e35-3a3074c339ff",
   "metadata": {},
   "source": [
    "pd.set_option('display.max_rows', 500)\n",
    "pd.set_option('display.max_columns', 500)"
   ],
   "outputs": []
  },
  {
   "cell_type": "code",
   "execution_count": 3,
   "id": "4c849998-7d93-4a1c-a163-a7532147b184",
   "metadata": {},
   "source": [
    "#importing raw data\n",
    "df2= pd.read_csv(\"C://Users//ahmed.saeed//Desktop//Job_Risk//Job_Risk//Delay//df2_JOB_RISK2.csv\", sep=',', low_memory=False)\n",
    "df2"
   ],
   "outputs": []
  },
  {
   "cell_type": "code",
   "execution_count": 4,
   "id": "d1fafd00-2c62-4fab-82fa-16050a4092b2",
   "metadata": {},
   "source": [
    "filename = 'C://Users//ahmed.saeed//Desktop//Job_Risk//Job_Risk//Feedback//rf_model_fitted_Feedback.sav'\n",
    "rf_model = pickle.load(open(filename, 'rb'))\n"
   ],
   "outputs": []
  },
  {
   "cell_type": "code",
   "execution_count": 5,
   "id": "ff348617-d06a-4ddf-b9bc-d967c6628c84",
   "metadata": {},
   "source": [
    "# Introduing features and label\n",
    "X = df2[['Brand', 'Unit', 'Job_type','Subject', 'Delay','Language_Pair','Start_TimeStamp',\n",
    "         'Price','Deivery_TimeStamp','amount','Duration', 'PM', 'Account']]\n",
    "y = np.array(df2[\"feedback\"]).astype(int)\n",
    "X_train, X_test, y_train, y_test = train_test_split(X, y, test_size=0.2, random_state=44)\n"
   ],
   "outputs": []
  },
  {
   "cell_type": "markdown",
   "id": "ff39f83d-d27e-4ec5-b2fc-9bac50f1982b",
   "metadata": {},
   "source": [
    "# Step 3. – Making predictions with our model"
   ]
  },
  {
   "cell_type": "code",
   "execution_count": 6,
   "id": "e1e62418-431b-4514-b1f4-eb87cc61cf20",
   "metadata": {},
   "source": [
    "y_pred = rf_model.predict(X_test)\n",
    "y_pred"
   ],
   "outputs": []
  },
  {
   "cell_type": "code",
   "execution_count": 7,
   "id": "6caf7568-525c-4b7e-bb6d-5034a744a10e",
   "metadata": {},
   "source": [
    "y_test"
   ],
   "outputs": []
  },
  {
   "cell_type": "code",
   "execution_count": 8,
   "id": "ef38af4d-5e25-4a15-9179-27fb027ac1ff",
   "metadata": {},
   "source": [
    "prob = rf_model.predict_proba(X_test)\n",
    "prob"
   ],
   "outputs": []
  },
  {
   "cell_type": "code",
   "execution_count": 9,
   "id": "42a1e979-58b0-48dd-a24c-487d72767274",
   "metadata": {},
   "source": [
    "rf_model.classes_"
   ],
   "outputs": []
  },
  {
   "cell_type": "code",
   "execution_count": 10,
   "id": "16b4fd7e-3185-4a80-87e2-6642db882f27",
   "metadata": {},
   "source": [
    "from sklearn.metrics import classification_report, confusion_matrix\n",
    "cm = confusion_matrix(y_test, y_pred)\n",
    "sns.heatmap(cm, annot=True, fmt='d').set_title('risks confusion matrix')\n",
    "\n",
    "print(classification_report(y_test,y_pred))\n",
    "#Vertical (actual), horizontal (prediction)"
   ],
   "outputs": []
  },
  {
   "cell_type": "code",
   "execution_count": 11,
   "id": "9d77554a-5df9-4564-a1c3-83e99c5fe07b",
   "metadata": {},
   "source": [
    "importances = rf_model.feature_importances_\n",
    "columns = X.columns\n",
    "i = 0\n",
    "\n",
    "while i < len(columns):\n",
    "    print (f\" the importance of feature '{columns[i]}' is {round(importances[i]*100, 2)}%.\")\n",
    "    i+=1"
   ],
   "outputs": []
  },
  {
   "cell_type": "code",
   "execution_count": 12,
   "id": "f1d923eb-d4a0-4b72-8efb-f0acaa101d4f",
   "metadata": {
    "tags": []
   },
   "source": [
    "dfn1 = pd.DataFrame(prob, columns=['Positive', 'negative'])\n",
    "dfn1['y_pred'] = y_pred\n",
    "dfn1['y_test'] = y_test\n",
    "\n",
    "dfn1"
   ],
   "outputs": []
  },
  {
   "cell_type": "code",
   "execution_count": 13,
   "id": "9e16d997-ceaa-4c72-afb5-f234694a2ae7",
   "metadata": {},
   "source": [
    "dfn1['9_pred'] = np.where((dfn1['negative'] > 0.09) , 1, 0)\n",
    "\n",
    "dfn1"
   ],
   "outputs": []
  },
  {
   "cell_type": "code",
   "execution_count": 14,
   "id": "a3dc6e6f-cd1e-4d57-9e2a-b7bdcb4da2af",
   "metadata": {},
   "source": [
    "dfn1.to_excel(\"C://Users//ahmed.saeed//Desktop//Job_Risk//Job_Risk//Profitability//RF_feedback.xlsx\", header=True)"
   ],
   "outputs": []
  },
  {
   "cell_type": "code",
   "execution_count": 15,
   "id": "c5175c94-88fe-4142-8438-913f436f98d0",
   "metadata": {},
   "source": [
    "from sklearn.metrics import classification_report, confusion_matrix\n",
    "cm9 = confusion_matrix(y_test, dfn1['9_pred'])\n",
    "sns.heatmap(cm9, annot=True, fmt='d').set_title('9% confusion matrix')\n",
    "\n",
    "print(classification_report(y_test,y_pred))\n",
    "#Vertical (actual), horizontal (prediction)"
   ],
   "outputs": []
  },
  {
   "cell_type": "code",
   "execution_count": 16,
   "id": "4b0aca89-769a-4de5-b140-e90fa1019212",
   "metadata": {},
   "source": [
    "a,b = (cm9.diagonal()/cm9.sum(axis=1))*100\n",
    "print (\"No Feedback 91 :\", a,\n",
    "       \"\\nFeedback 9:\", b)"
   ],
   "outputs": []
  },
  {
   "cell_type": "code",
   "execution_count": 17,
   "id": "fc0c3222-db81-4431-9db8-805fc74e125f",
   "metadata": {},
   "source": [
    "#final Prediction (Feedback @ 9%)"
   ],
   "outputs": []
  }
 ],
 "metadata": {
  "kernelspec": {
   "display_name": "Python 3 (ipykernel)",
   "language": "python",
   "name": "python3"
  },
  "language_info": {
   "codemirror_mode": {
    "name": "ipython",
    "version": 3
   },
   "file_extension": ".py",
   "mimetype": "text/x-python",
   "name": "python",
   "nbconvert_exporter": "python",
   "pygments_lexer": "ipython3",
   "version": "3.9.13"
  }
 },
 "nbformat": 4,
 "nbformat_minor": 5
}
